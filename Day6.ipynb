{
  "nbformat": 4,
  "nbformat_minor": 0,
  "metadata": {
    "colab": {
      "provenance": [],
      "authorship_tag": "ABX9TyPEZyYFHi/Igpg24wqJ4hQG",
      "include_colab_link": true
    },
    "kernelspec": {
      "name": "python3",
      "display_name": "Python 3"
    },
    "language_info": {
      "name": "python"
    }
  },
  "cells": [
    {
      "cell_type": "markdown",
      "metadata": {
        "id": "view-in-github",
        "colab_type": "text"
      },
      "source": [
        "<a href=\"https://colab.research.google.com/github/Aswinramesh04/Python-Course/blob/main/Untitled87.ipynb\" target=\"_parent\"><img src=\"https://colab.research.google.com/assets/colab-badge.svg\" alt=\"Open In Colab\"/></a>"
      ]
    },
    {
      "cell_type": "code",
      "execution_count": null,
      "metadata": {
        "id": "Tfg-1S935N3u"
      },
      "outputs": [],
      "source": [
        "#try except"
      ]
    },
    {
      "cell_type": "code",
      "source": [
        "a-z!@#$%0-9"
      ],
      "metadata": {
        "id": "zATMndIx7QTe"
      },
      "execution_count": null,
      "outputs": []
    },
    {
      "cell_type": "code",
      "source": [
        "try - test the code\n",
        "except - handle the error\n",
        "else - if no error else will be printed\n",
        "finally"
      ],
      "metadata": {
        "id": "Rr3h2EDy7tbZ"
      },
      "execution_count": null,
      "outputs": []
    },
    {
      "cell_type": "code",
      "source": [
        "try:\n",
        "  print(a)\n",
        "except:\n",
        "  print(\"Exception occured\")"
      ],
      "metadata": {
        "colab": {
          "base_uri": "https://localhost:8080/"
        },
        "id": "AVh_-K8j8AXd",
        "outputId": "81e52293-6997-43de-fe40-a955ffca7987"
      },
      "execution_count": null,
      "outputs": [
        {
          "output_type": "stream",
          "name": "stdout",
          "text": [
            "Exception occured\n"
          ]
        }
      ]
    },
    {
      "cell_type": "code",
      "source": [
        "#Many Exception\n",
        "try:\n",
        "  print(a)\n",
        "except NameError:\n",
        "  print(\"Variable not declared\")\n",
        "except:\n",
        "  print(\"Something else error\")"
      ],
      "metadata": {
        "colab": {
          "base_uri": "https://localhost:8080/"
        },
        "id": "rN83pTvu8c02",
        "outputId": "fb501529-e188-48d8-e082-bac450eeb943"
      },
      "execution_count": null,
      "outputs": [
        {
          "output_type": "stream",
          "name": "stdout",
          "text": [
            "Variable not declared\n"
          ]
        }
      ]
    },
    {
      "cell_type": "code",
      "source": [
        "try:\n",
        "  print(\"Hi\")\n",
        "except NameError:\n",
        "  print(\"Variable not declared\")\n",
        "\n",
        "\n",
        "else:\n",
        "  print(\"Something else error\")    #If no errors also else will be printed"
      ],
      "metadata": {
        "colab": {
          "base_uri": "https://localhost:8080/"
        },
        "id": "VUYTOPjO9ED6",
        "outputId": "d786953a-ed9f-45c8-a1fe-a9b833f8de6d"
      },
      "execution_count": null,
      "outputs": [
        {
          "output_type": "stream",
          "name": "stdout",
          "text": [
            "Hi\n",
            "Something else error\n"
          ]
        }
      ]
    },
    {
      "cell_type": "code",
      "source": [
        "try:\n",
        "  print(\"Hi\")\n",
        "except NameError:\n",
        "  print(\"Variable not declared\")\n",
        "\n",
        "\n",
        "finally:\n",
        "  print(\"Something else error\") #it prints the finally keyword , if we get the error at try statement"
      ],
      "metadata": {
        "colab": {
          "base_uri": "https://localhost:8080/"
        },
        "id": "RUVl2C0j92Oo",
        "outputId": "80a61751-a4bf-435d-cd2a-9e7bf2db9f27"
      },
      "execution_count": null,
      "outputs": [
        {
          "output_type": "stream",
          "name": "stdout",
          "text": [
            "Hi\n",
            "Something else error\n"
          ]
        }
      ]
    },
    {
      "cell_type": "code",
      "source": [
        "Access Modifiers(3):\n",
        "\n",
        "public attribut\n",
        "private attribute - (__) , Only it works within the Main class\n",
        "protected attribute: (_), Works in child and parent class"
      ],
      "metadata": {
        "id": "-bPQBWG5-Xto"
      },
      "execution_count": null,
      "outputs": []
    },
    {
      "cell_type": "code",
      "source": [
        "class Animal: #(protected)\n",
        "  def __init__(self, name):\n",
        "    self._name = name\n",
        "\n",
        "  def _make_sound(self, sound):\n",
        "    print(f\"{self._name } makes a {sound} sound.\")\n",
        "\n",
        "class Dog(Animal):\n",
        "  def bark(self):\n",
        "    self._make_sound(\"ohh\")\n",
        "\n",
        "\n",
        "animal = Animal(\"Elephant\")\n",
        "dog = Dog(\"Jack\")\n",
        "\n",
        "print(animal._name)\n",
        "\n",
        "dog.bark()\n",
        "\n",
        "\n"
      ],
      "metadata": {
        "colab": {
          "base_uri": "https://localhost:8080/"
        },
        "id": "re9Od4xL_Kel",
        "outputId": "94654ed9-2e32-4460-afd1-b274c3e4f586"
      },
      "execution_count": null,
      "outputs": [
        {
          "output_type": "stream",
          "name": "stdout",
          "text": [
            "Elephant\n",
            "Jack makes a ohh sound.\n"
          ]
        }
      ]
    },
    {
      "cell_type": "code",
      "source": [
        "Name Mangling - It's a technique , Within the class it overcomes and print the result of private attribute"
      ],
      "metadata": {
        "id": "HdqpTw4ZCZYJ"
      },
      "execution_count": null,
      "outputs": []
    },
    {
      "cell_type": "code",
      "source": [
        "class Medicines: #protected_\n",
        "    def __init__(self,med_id,name,quantity,price):\n",
        "        self.med_id=med_id\n",
        "        self.name=name\n",
        "        self._quantity=quantity\n",
        "        self._price=price\n",
        "\n",
        "\n",
        "\n",
        "    def information(self):\n",
        "        print(\"ID is:\",self.med_id)\n",
        "        print(\"Name is:\",self.name)\n",
        "        print(\"Quantity is:\",self._quantity)\n",
        "        print(\"Price is:\",self._price)\n",
        "\n",
        "    sale=int(input(\"Enter the total sale quantity:\"))\n",
        "\n",
        "    def Update_quantity(self):\n",
        "      try:\n",
        "\n",
        "          sale =int(input(\"Enter the quantity sold:\"))\n",
        "          updated_quantity = self._quantity - sale\n",
        "\n",
        "\n",
        "          # if updated_quantity >= 0:\n",
        "          #   self._quantity  = updated_quantity\n",
        "          #   print(\"Updated Quantity: \", updated_quantity)\n",
        "          # else:\n",
        "          #   print(\"Error\")\n",
        "\n",
        "      except ValueError:\n",
        "\n",
        "          print(\"Enter an valid integer for the quantity\")\n",
        "\n",
        "\n",
        "    def totalsale(self):\n",
        "        self.Totalsale=self.sale* self._price\n",
        "        return self.Totalsale\n",
        "\n",
        "x=input(\"Enter the medicines ID:\")\n",
        "y=input(\"Enter the medicines name:\")\n",
        "z=int(input(\"Enter the total medicines quantity:\"))\n",
        "p=int(input(\"Enter the medicines price:\"))\n",
        "print(\"--------------------end-----------------------\")\n",
        "\n",
        "\n",
        "med=Medicines(x,y,z,p)\n",
        "med.information()\n",
        "print(\"total value of available stock:\",med.Update_quantity())\n",
        "print(\"total sales price\",med.totalsale())\n",
        "\n",
        "\n"
      ],
      "metadata": {
        "colab": {
          "base_uri": "https://localhost:8080/"
        },
        "id": "WHO7sNGzE28S",
        "outputId": "59b2974c-5fb0-4608-e5ed-2f8214834f30"
      },
      "execution_count": null,
      "outputs": [
        {
          "output_type": "stream",
          "name": "stdout",
          "text": [
            "Enter the total sale quantity:100\n",
            "Enter the medicines ID:3133\n",
            "Enter the medicines name:ghdgdgf\n",
            "Enter the total medicines quantity:333\n",
            "Enter the medicines price:3233\n",
            "--------------------end-----------------------\n",
            "ID is: 3133\n",
            "Name is: ghdgdgf\n",
            "Quantity is: 333\n",
            "Price is: 3233\n",
            "Enter the quantity sold:fgfhfh\n",
            "Enter an valid integer for the quantity\n",
            "total value of available stock: None\n",
            "total sales price 323300\n"
          ]
        }
      ]
    },
    {
      "cell_type": "code",
      "source": [
        "#protected - (_) it works sub class and main classes"
      ],
      "metadata": {
        "id": "mNMLIWfIN69h"
      },
      "execution_count": null,
      "outputs": []
    },
    {
      "cell_type": "code",
      "source": [
        "class Animal:\n",
        "    def __init__(self,name):\n",
        "        self.name=name\n",
        "\n",
        "    def __make_sound(self):\n",
        "        print(\"sond\")\n",
        "\n",
        "class Mammals(Animal):\n",
        "    def __init__(self,name):\n",
        "        self.name=name\n",
        "\n",
        "    def __make_sound(self):\n",
        "        print(\"Mammals_sond\")\n",
        "\n",
        "class Birds(Animal):\n",
        "    def __init__(self,name):\n",
        "        self.name=name\n",
        "\n",
        "    def __make_sound(self):\n",
        "        print(\"Birds_sond\")\n",
        "\n",
        "class Reptiles(Animal):\n",
        "    def __init__(self,name):\n",
        "        self.name=name\n",
        "\n",
        "    def __make_sound(self):\n",
        "        print(\"Animal_sond\")\n",
        "\n",
        "mammals=Mammals(\"cow\")\n",
        "birds=Birds(\"parrot\")\n",
        "reptiles=Reptiles(\"snake\")\n",
        "\n",
        "for i in (mammals,birds,reptiles):\n",
        "    print(i.name)\n",
        "    i.__make_sound()"
      ],
      "metadata": {
        "colab": {
          "base_uri": "https://localhost:8080/",
          "height": 200
        },
        "id": "yIjqzoyeM_Wc",
        "outputId": "c5af7412-d50b-4104-c1b5-d4bbb065d13d"
      },
      "execution_count": null,
      "outputs": [
        {
          "output_type": "stream",
          "name": "stdout",
          "text": [
            "cow\n"
          ]
        },
        {
          "output_type": "error",
          "ename": "AttributeError",
          "evalue": "'Mammals' object has no attribute '__make_sound'",
          "traceback": [
            "\u001b[0;31m---------------------------------------------------------------------------\u001b[0m",
            "\u001b[0;31mAttributeError\u001b[0m                            Traceback (most recent call last)",
            "\u001b[0;32m<ipython-input-48-479c0d91078e>\u001b[0m in \u001b[0;36m<cell line: 33>\u001b[0;34m()\u001b[0m\n\u001b[1;32m     33\u001b[0m \u001b[0;32mfor\u001b[0m \u001b[0mi\u001b[0m \u001b[0;32min\u001b[0m \u001b[0;34m(\u001b[0m\u001b[0mmammals\u001b[0m\u001b[0;34m,\u001b[0m\u001b[0mbirds\u001b[0m\u001b[0;34m,\u001b[0m\u001b[0mreptiles\u001b[0m\u001b[0;34m)\u001b[0m\u001b[0;34m:\u001b[0m\u001b[0;34m\u001b[0m\u001b[0;34m\u001b[0m\u001b[0m\n\u001b[1;32m     34\u001b[0m     \u001b[0mprint\u001b[0m\u001b[0;34m(\u001b[0m\u001b[0mi\u001b[0m\u001b[0;34m.\u001b[0m\u001b[0mname\u001b[0m\u001b[0;34m)\u001b[0m\u001b[0;34m\u001b[0m\u001b[0;34m\u001b[0m\u001b[0m\n\u001b[0;32m---> 35\u001b[0;31m     \u001b[0mi\u001b[0m\u001b[0;34m.\u001b[0m\u001b[0m__make_sound\u001b[0m\u001b[0;34m(\u001b[0m\u001b[0;34m)\u001b[0m\u001b[0;34m\u001b[0m\u001b[0;34m\u001b[0m\u001b[0m\n\u001b[0m",
            "\u001b[0;31mAttributeError\u001b[0m: 'Mammals' object has no attribute '__make_sound'"
          ]
        }
      ]
    }
  ]
}
