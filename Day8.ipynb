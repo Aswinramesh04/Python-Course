{
  "nbformat": 4,
  "nbformat_minor": 0,
  "metadata": {
    "colab": {
      "provenance": [],
      "authorship_tag": "ABX9TyOIM07AuLWwStYky1gILg4M",
      "include_colab_link": true
    },
    "kernelspec": {
      "name": "python3",
      "display_name": "Python 3"
    },
    "language_info": {
      "name": "python"
    }
  },
  "cells": [
    {
      "cell_type": "markdown",
      "metadata": {
        "id": "view-in-github",
        "colab_type": "text"
      },
      "source": [
        "<a href=\"https://colab.research.google.com/github/Aswinramesh04/Python-Course/blob/main/Day8.ipynb\" target=\"_parent\"><img src=\"https://colab.research.google.com/assets/colab-badge.svg\" alt=\"Open In Colab\"/></a>"
      ]
    },
    {
      "cell_type": "code",
      "source": [
        "#stopIteration - Exception handling"
      ],
      "metadata": {
        "id": "wU3MXq6gDj5-"
      },
      "execution_count": null,
      "outputs": []
    },
    {
      "cell_type": "code",
      "source": [
        "class Pizza:\n",
        "  def __init__(self):\n",
        "    self.size = None\n",
        "    self.quanity = None\n",
        "\n",
        "  def get_size_and_quantity(self):  #both instance method when we use at same line\n",
        "    while True:\n",
        "      self.size = input(\"Enter pizza size(small, medium, large): \")\n",
        "      self.quantity = input(\"Enter the quantity: \")\n",
        "\n",
        "      try:\n",
        "\n",
        "        if self.size not in ['small', 'medium', 'large']:\n",
        "          raise ValueError(\"Invalid Size\")\n",
        "\n",
        "        self.quantity = int(self.quantity)\n",
        "        if self.quantity <= 0:\n",
        "            raise ValueError(\"Quantity must be only positive.\")\n",
        "        break  # until it satisfies the loop runs\n",
        "      except ValueError as e:\n",
        "          print(e)\n",
        "\n",
        "\n",
        "  def calculate_total_price(self):\n",
        "    price = {'small' : 100, 'medium' : 200, 'large': 300}\n",
        "    subtotal = price.get(self.size) * self.quantity\n",
        "    sales_tax = 0.18 * subtotal\n",
        "    total_price = subtotal + sales_tax\n",
        "\n",
        "    if total_price > 1000:\n",
        "      total_price -= 50\n",
        "\n",
        "    return total_price\n",
        "\n",
        "order = Pizza()\n",
        "order.get_size_and_quantity()\n",
        "total_price = order.calculate_total_price()\n",
        "print(\"Total Price \", total_price)"
      ],
      "metadata": {
        "colab": {
          "base_uri": "https://localhost:8080/"
        },
        "id": "ejcVUu9Kq2_b",
        "outputId": "54d0ace3-5cca-49d3-a6e9-685950b1222b"
      },
      "execution_count": 12,
      "outputs": [
        {
          "output_type": "stream",
          "name": "stdout",
          "text": [
            "Enter pizza size(small, medium, large): aswin\n",
            "Enter the quantity: 1\n",
            "Invalid Size\n",
            "Enter pizza size(small, medium, large): medium\n",
            "Enter the quantity: -50\n",
            "Quantity must be only positive.\n",
            "Enter pizza size(small, medium, large): large\n",
            "Enter the quantity: 10\n",
            "Total Price  3490.0\n"
          ]
        }
      ]
    },
    {
      "cell_type": "code",
      "source": [
        "# Python Closures - if the function also closes , we can access their variables.\n",
        "\n",
        "def functionA(name):\n",
        "  name = \"Aswin\"\n",
        "\n",
        "  def functionB():\n",
        "    print (name)\n",
        "\n",
        "  return functionB\n",
        "\n",
        "result = functionA(\"Aswin\")\n",
        "result()"
      ],
      "metadata": {
        "colab": {
          "base_uri": "https://localhost:8080/"
        },
        "id": "I_wgw8Ux2sxU",
        "outputId": "cd3d3dce-c6f3-4668-d11e-4e7cf0614288"
      },
      "execution_count": 16,
      "outputs": [
        {
          "output_type": "stream",
          "name": "stdout",
          "text": [
            "Aswin\n"
          ]
        }
      ]
    },
    {
      "cell_type": "code",
      "source": [
        "#Python Iterator:\n",
        "\n",
        "iterable - string object iterable\n",
        "iterators - __next__, __iter__\n",
        "iterations"
      ],
      "metadata": {
        "id": "xHv-pkWn3v2N"
      },
      "execution_count": null,
      "outputs": []
    },
    {
      "cell_type": "code",
      "source": [
        "list = [1,2,3,4,5]\n",
        "\n",
        "for i in list:\n",
        "  print(i)"
      ],
      "metadata": {
        "colab": {
          "base_uri": "https://localhost:8080/"
        },
        "id": "c8LSNuWb382-",
        "outputId": "d540693c-0c5c-4ff0-ff53-d5a7715cfd46"
      },
      "execution_count": 17,
      "outputs": [
        {
          "output_type": "stream",
          "name": "stdout",
          "text": [
            "1\n",
            "2\n",
            "3\n",
            "4\n",
            "5\n"
          ]
        }
      ]
    },
    {
      "cell_type": "code",
      "source": [
        "list = [1,2,3,4,5]\n",
        "list[2]"
      ],
      "metadata": {
        "colab": {
          "base_uri": "https://localhost:8080/"
        },
        "id": "o-U3FBeh4I4r",
        "outputId": "349e47c0-4202-4969-b8c2-3e3479077c91"
      },
      "execution_count": 18,
      "outputs": [
        {
          "output_type": "execute_result",
          "data": {
            "text/plain": [
              "3"
            ]
          },
          "metadata": {},
          "execution_count": 18
        }
      ]
    },
    {
      "cell_type": "code",
      "source": [
        "a = 'apple'\n",
        "for i in a:\n",
        "  print(i)"
      ],
      "metadata": {
        "colab": {
          "base_uri": "https://localhost:8080/"
        },
        "id": "-AzTy9DT4hb3",
        "outputId": "1b086d99-8b52-419b-edb6-f19237b446be"
      },
      "execution_count": 20,
      "outputs": [
        {
          "output_type": "stream",
          "name": "stdout",
          "text": [
            "a\n",
            "p\n",
            "p\n",
            "l\n",
            "e\n"
          ]
        }
      ]
    },
    {
      "cell_type": "code",
      "source": [
        "a = 55555\n",
        "for i in a:\n",
        "  print(i)"
      ],
      "metadata": {
        "colab": {
          "base_uri": "https://localhost:8080/",
          "height": 176
        },
        "id": "_WFnD9L_4pCZ",
        "outputId": "334ad3cc-af6f-49b4-d592-352bb34cad33"
      },
      "execution_count": 21,
      "outputs": [
        {
          "output_type": "error",
          "ename": "TypeError",
          "evalue": "'int' object is not iterable",
          "traceback": [
            "\u001b[0;31m---------------------------------------------------------------------------\u001b[0m",
            "\u001b[0;31mTypeError\u001b[0m                                 Traceback (most recent call last)",
            "\u001b[0;32m<ipython-input-21-d9644ce972ae>\u001b[0m in \u001b[0;36m<cell line: 2>\u001b[0;34m()\u001b[0m\n\u001b[1;32m      1\u001b[0m \u001b[0ma\u001b[0m \u001b[0;34m=\u001b[0m \u001b[0;36m55555\u001b[0m\u001b[0;34m\u001b[0m\u001b[0;34m\u001b[0m\u001b[0m\n\u001b[0;32m----> 2\u001b[0;31m \u001b[0;32mfor\u001b[0m \u001b[0mi\u001b[0m \u001b[0;32min\u001b[0m \u001b[0ma\u001b[0m\u001b[0;34m:\u001b[0m\u001b[0;34m\u001b[0m\u001b[0;34m\u001b[0m\u001b[0m\n\u001b[0m\u001b[1;32m      3\u001b[0m   \u001b[0mprint\u001b[0m\u001b[0;34m(\u001b[0m\u001b[0mi\u001b[0m\u001b[0;34m)\u001b[0m\u001b[0;34m\u001b[0m\u001b[0;34m\u001b[0m\u001b[0m\n",
            "\u001b[0;31mTypeError\u001b[0m: 'int' object is not iterable"
          ]
        }
      ]
    },
    {
      "cell_type": "code",
      "source": [
        "a = [17, \"aswin\", 0.23]\n",
        "\n",
        "for i in a:\n",
        "  print(i)\n"
      ],
      "metadata": {
        "colab": {
          "base_uri": "https://localhost:8080/"
        },
        "id": "ip9vu30j4zaK",
        "outputId": "52899661-5b6c-487b-a5d0-e03e93e44391"
      },
      "execution_count": 22,
      "outputs": [
        {
          "output_type": "stream",
          "name": "stdout",
          "text": [
            "17\n",
            "aswin\n",
            "0.23\n"
          ]
        }
      ]
    },
    {
      "cell_type": "markdown",
      "source": [
        "**Creating an iterator by custom detail:**"
      ],
      "metadata": {
        "id": "8eoAOX69528G"
      }
    },
    {
      "cell_type": "code",
      "source": [
        "list = [1,2,3,4,5]\n",
        "\n",
        "it = iter(list)\n",
        "print(it.__next__()) #built in method\n",
        "print(it.__next__())\n",
        "print(it.__next__())\n",
        "\n",
        "print(next(it)) #next function\n",
        "\n",
        "for i in list:\n",
        "  print(i)"
      ],
      "metadata": {
        "colab": {
          "base_uri": "https://localhost:8080/"
        },
        "id": "A1MovmGi5j-y",
        "outputId": "c24fed30-fd10-4b55-f4af-aab452f9de44"
      },
      "execution_count": 28,
      "outputs": [
        {
          "output_type": "stream",
          "name": "stdout",
          "text": [
            "1\n",
            "2\n",
            "3\n",
            "4\n",
            "1\n",
            "2\n",
            "3\n",
            "4\n",
            "5\n"
          ]
        }
      ]
    },
    {
      "cell_type": "code",
      "source": [
        "a = \"apple\"\n",
        "\n",
        "print(a.__iter__())"
      ],
      "metadata": {
        "colab": {
          "base_uri": "https://localhost:8080/"
        },
        "id": "i_IxPJmc60Bh",
        "outputId": "06dda170-2a20-4403-c0a5-6046997cf06a"
      },
      "execution_count": 29,
      "outputs": [
        {
          "output_type": "stream",
          "name": "stdout",
          "text": [
            "<str_iterator object at 0x7f918e1a0280>\n"
          ]
        }
      ]
    },
    {
      "cell_type": "code",
      "source": [
        "a = 787989\n",
        "\n",
        "print(a.__iter__())"
      ],
      "metadata": {
        "colab": {
          "base_uri": "https://localhost:8080/",
          "height": 176
        },
        "id": "53piFe0G7Eq4",
        "outputId": "f4673fa1-de71-4627-c8a5-fb5144531795"
      },
      "execution_count": 30,
      "outputs": [
        {
          "output_type": "error",
          "ename": "AttributeError",
          "evalue": "'int' object has no attribute '__iter__'",
          "traceback": [
            "\u001b[0;31m---------------------------------------------------------------------------\u001b[0m",
            "\u001b[0;31mAttributeError\u001b[0m                            Traceback (most recent call last)",
            "\u001b[0;32m<ipython-input-30-4488e6f2b9d4>\u001b[0m in \u001b[0;36m<cell line: 3>\u001b[0;34m()\u001b[0m\n\u001b[1;32m      1\u001b[0m \u001b[0ma\u001b[0m \u001b[0;34m=\u001b[0m \u001b[0;36m787989\u001b[0m\u001b[0;34m\u001b[0m\u001b[0;34m\u001b[0m\u001b[0m\n\u001b[1;32m      2\u001b[0m \u001b[0;34m\u001b[0m\u001b[0m\n\u001b[0;32m----> 3\u001b[0;31m \u001b[0mprint\u001b[0m\u001b[0;34m(\u001b[0m\u001b[0ma\u001b[0m\u001b[0;34m.\u001b[0m\u001b[0m__iter__\u001b[0m\u001b[0;34m(\u001b[0m\u001b[0;34m)\u001b[0m\u001b[0;34m)\u001b[0m\u001b[0;34m\u001b[0m\u001b[0;34m\u001b[0m\u001b[0m\n\u001b[0m",
            "\u001b[0;31mAttributeError\u001b[0m: 'int' object has no attribute '__iter__'"
          ]
        }
      ]
    },
    {
      "cell_type": "code",
      "source": [
        "class MyNumbers:\n",
        "  def __iter__(self):\n",
        "    self.a = 1\n",
        "    return self\n",
        "\n",
        "  def __next__(self):\n",
        "    if self.a <= 10:\n",
        "\n",
        "      x = self.a\n",
        "      self.a += 1\n",
        "      return x\n",
        "    else:\n",
        "      raise StopIteration\n",
        "\n",
        "result = MyNumbers()\n",
        "myiter = iter(result)\n",
        "\n",
        "for i in myiter:\n",
        "  print(i)"
      ],
      "metadata": {
        "colab": {
          "base_uri": "https://localhost:8080/"
        },
        "id": "tAXqWkq57Q0a",
        "outputId": "3db01dc2-2256-47b4-d6f1-e253b88afcdf"
      },
      "execution_count": 37,
      "outputs": [
        {
          "output_type": "stream",
          "name": "stdout",
          "text": [
            "1\n",
            "2\n",
            "3\n",
            "4\n",
            "5\n",
            "6\n",
            "7\n",
            "8\n",
            "9\n",
            "10\n"
          ]
        }
      ]
    },
    {
      "cell_type": "code",
      "source": [
        "__next__, __iter__ - python iterator"
      ],
      "metadata": {
        "id": "BlNv1Ej398kt"
      },
      "execution_count": null,
      "outputs": []
    },
    {
      "cell_type": "code",
      "source": [
        "def demo():\n",
        "  return 52\n",
        "a = demo()\n",
        "print(a)"
      ],
      "metadata": {
        "colab": {
          "base_uri": "https://localhost:8080/"
        },
        "id": "sys0xthy9_mL",
        "outputId": "c093e1e4-d419-4e26-cd63-a3e2f499ad26"
      },
      "execution_count": 38,
      "outputs": [
        {
          "output_type": "stream",
          "name": "stdout",
          "text": [
            "5\n"
          ]
        }
      ]
    },
    {
      "cell_type": "code",
      "source": [
        "yield :"
      ],
      "metadata": {
        "id": "a7lKHl3w-ZkZ"
      },
      "execution_count": null,
      "outputs": []
    },
    {
      "cell_type": "code",
      "source": [
        "def demo():\n",
        "  yield 5\n",
        "a = demo()\n",
        "print(a.__next__())"
      ],
      "metadata": {
        "colab": {
          "base_uri": "https://localhost:8080/"
        },
        "id": "hzo8Uxgf-eRH",
        "outputId": "e1448eb8-6559-4e3e-d31e-f1f4addf6a32"
      },
      "execution_count": 39,
      "outputs": [
        {
          "output_type": "stream",
          "name": "stdout",
          "text": [
            "5\n"
          ]
        }
      ]
    },
    {
      "cell_type": "markdown",
      "source": [
        "Generator - uses to create our own iterator\n",
        "yield - pause & resumes the functions or loop **bold text**"
      ],
      "metadata": {
        "id": "Zgtagy7OAS72"
      }
    },
    {
      "cell_type": "code",
      "source": [
        "def demo():\n",
        "  n = 1\n",
        "  while n <= 10:\n",
        "    val = n * n\n",
        "    yield val\n",
        "    n += 1\n",
        "\n",
        "a = demo()\n",
        "for i in a:\n",
        "  print(i)"
      ],
      "metadata": {
        "colab": {
          "base_uri": "https://localhost:8080/"
        },
        "id": "NgZo_QNs-vdl",
        "outputId": "859e836a-943f-43d1-cd1e-f1b3d91d4a78"
      },
      "execution_count": 40,
      "outputs": [
        {
          "output_type": "stream",
          "name": "stdout",
          "text": [
            "1\n",
            "4\n",
            "9\n",
            "16\n",
            "25\n",
            "36\n",
            "49\n",
            "64\n",
            "81\n",
            "100\n"
          ]
        }
      ]
    },
    {
      "cell_type": "code",
      "source": [
        "def generate_square():\n",
        "\n",
        "  squares = []\n",
        "  for i in range(1,11):\n",
        "    squares.append(i * i)\n",
        "  return squares\n",
        "\n",
        "result = generate_square()\n",
        "print(result)\n"
      ],
      "metadata": {
        "colab": {
          "base_uri": "https://localhost:8080/"
        },
        "id": "D1FGcJfkA9D1",
        "outputId": "b0739ef3-f5df-4929-b228-ea6115653a74"
      },
      "execution_count": 43,
      "outputs": [
        {
          "output_type": "stream",
          "name": "stdout",
          "text": [
            "[1, 4, 9, 16, 25, 36, 49, 64, 81, 100]\n"
          ]
        }
      ]
    },
    {
      "cell_type": "code",
      "source": [
        "def sample_generator():\n",
        "  yield 1\n",
        "  yield 2\n",
        "  yield 3\n",
        "\n",
        "result = sample_generator()\n",
        "\n",
        "print(next(result))\n",
        "print(next(result))\n",
        "print(next(result))"
      ],
      "metadata": {
        "colab": {
          "base_uri": "https://localhost:8080/"
        },
        "id": "yYakAFx_AgPZ",
        "outputId": "626afd6d-d6c7-4c0d-ef9e-bbab430fa11d"
      },
      "execution_count": 42,
      "outputs": [
        {
          "output_type": "stream",
          "name": "stdout",
          "text": [
            "1\n",
            "2\n",
            "3\n"
          ]
        }
      ]
    },
    {
      "cell_type": "code",
      "source": [
        "getter method - @property\n",
        "setter method - @function.setter"
      ],
      "metadata": {
        "id": "Pusk8-5UCRZU"
      },
      "execution_count": null,
      "outputs": []
    },
    {
      "cell_type": "code",
      "source": [
        "abcdefgh....z@#0-9$%^&&@gmail.com\n",
        "1-31/1-12/0-0-9\n",
        "\n",
        "Python datetime\n",
        "python file handling\n",
        "lambda , key, mapfilter"
      ],
      "metadata": {
        "id": "4JjgmVqTCakZ"
      },
      "execution_count": null,
      "outputs": []
    },
    {
      "cell_type": "code",
      "source": [],
      "metadata": {
        "id": "ru0GAutfC12D"
      },
      "execution_count": null,
      "outputs": []
    }
  ]
}