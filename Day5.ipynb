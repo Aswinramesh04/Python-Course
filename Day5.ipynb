{
  "nbformat": 4,
  "nbformat_minor": 0,
  "metadata": {
    "colab": {
      "provenance": [],
      "authorship_tag": "ABX9TyMBE5wx3PeeLhtY1PqKyfVn",
      "include_colab_link": true
    },
    "kernelspec": {
      "name": "python3",
      "display_name": "Python 3"
    },
    "language_info": {
      "name": "python"
    }
  },
  "cells": [
    {
      "cell_type": "markdown",
      "metadata": {
        "id": "view-in-github",
        "colab_type": "text"
      },
      "source": [
        "<a href=\"https://colab.research.google.com/github/Aswinramesh04/Python-Course/blob/main/Day5.ipynb\" target=\"_parent\"><img src=\"https://colab.research.google.com/assets/colab-badge.svg\" alt=\"Open In Colab\"/></a>"
      ]
    },
    {
      "cell_type": "code",
      "execution_count": null,
      "metadata": {
        "id": "ryFTfCnIlMAG"
      },
      "outputs": [],
      "source": [
        "#bookstore - class &object"
      ]
    },
    {
      "cell_type": "code",
      "source": [
        "class Book: #sample class & object\n",
        "  def __init__(self, referenceno, title, author, price):\n",
        "    self.referenceno = referenceno\n",
        "    self.title = title\n",
        "    self.author = author\n",
        "    self.price = price\n",
        "\n",
        "  def __repr__(self): #special method\n",
        "    return f\"Book: {self.referenceno},title: {self.title}, Author:{self.author}, Price: {self.price} \"\n",
        "\n",
        "book1 = Book(121, \"titanic\", \"Author1\", 100)\n",
        "book2 = Book(101, \"titanic\", \"Author1\", 200)\n",
        "book3 = Book(121, \"titanic\", \"Author1\", 300)   #Instantiate method\n",
        "\n",
        "print(book1)\n",
        "print(book2)\n",
        "print(book3)\n"
      ],
      "metadata": {
        "colab": {
          "base_uri": "https://localhost:8080/"
        },
        "id": "NEGIzon8mt2N",
        "outputId": "b7474fd0-8bb8-4f60-e641-2385f75d0193"
      },
      "execution_count": 1,
      "outputs": [
        {
          "output_type": "stream",
          "name": "stdout",
          "text": [
            "Book: 121,title: titanic, Author:Author1, Price: 100 \n",
            "Book: 101,title: titanic, Author:Author1, Price: 200 \n",
            "Book: 121,title: titanic, Author:Author1, Price: 300 \n"
          ]
        }
      ]
    },
    {
      "cell_type": "code",
      "source": [
        "#polymorphism - on various classes, one method it occurs in various forms)"
      ],
      "metadata": {
        "id": "HfjGPGGIon7F"
      },
      "execution_count": null,
      "outputs": []
    },
    {
      "cell_type": "code",
      "source": [
        "class Dog:\n",
        "  def __init__(self, name):\n",
        "    self.name = name\n",
        "\n",
        "  def move(self):\n",
        "    print(f\"{self.name} runs!\")\n",
        "\n",
        "\n",
        "class Fish:\n",
        "  def __init__(self, name):\n",
        "    self.name = name\n",
        "\n",
        "  def move(self):\n",
        "    print(f\"{self.name} swims!\")\n",
        "\n",
        "\n",
        "\n",
        "class Bird:\n",
        "  def __init__(self, name):\n",
        "    self.name = name\n",
        "\n",
        "  def move(self):\n",
        "    print(f\"{self.name} fly!\")\n",
        "\n",
        "dog1 = Dog(\"Jack\")\n",
        "fish1 = Fish(\"abc\")\n",
        "bird1 = Bird(\"cbv\")\n",
        "\n",
        "for i in (dog1, fish1, bird1):\n",
        "  i.move()"
      ],
      "metadata": {
        "colab": {
          "base_uri": "https://localhost:8080/"
        },
        "id": "LyWSa5bXpEya",
        "outputId": "50c436ad-09af-4229-d379-e8762bc45397"
      },
      "execution_count": 3,
      "outputs": [
        {
          "output_type": "stream",
          "name": "stdout",
          "text": [
            "Jack runs!\n",
            "abc swims!\n",
            "cbv fly!\n"
          ]
        }
      ]
    },
    {
      "cell_type": "code",
      "source": [
        "#Inheritance over polymorphism\n",
        "class Vehicle:\n",
        "  def __init__(self, brand, model):\n",
        "    self.brand = brand\n",
        "    self.model = model\n",
        "\n",
        "    def move(self):\n",
        "      print(\"Move\")\n",
        "\n",
        "class Car(Vehicle):\n",
        "  def move(self):\n",
        "      print(\"Run\") #pass\n",
        "\n",
        "class Flight(Vehicle):\n",
        "  def move(self):\n",
        "      print(\"Fly\")\n",
        "\n",
        "class Boat(Vehicle):\n",
        "  def move(self):\n",
        "      print(\"swim\")\n",
        "\n",
        "car1 = Car(\"Audi\", \"A4\")\n",
        "flight1 = Flight(\"Indigo\", \"A320\")\n",
        "boat1 = Boat(\"Titanic\", \"123\")\n",
        "\n",
        "for i in (car1, flight1, boat1):\n",
        "  print(i.brand)\n",
        "  print(i.model)\n",
        "  i.move()\n"
      ],
      "metadata": {
        "colab": {
          "base_uri": "https://localhost:8080/"
        },
        "id": "fjxUy5dnrCo3",
        "outputId": "54d24cf6-6d71-46cc-e843-3a1c32d1b0c4"
      },
      "execution_count": 37,
      "outputs": [
        {
          "output_type": "stream",
          "name": "stdout",
          "text": [
            "Audi\n",
            "A4\n",
            "Run\n",
            "Indigo\n",
            "A320\n",
            "Fly\n",
            "Titanic\n",
            "123\n",
            "swim\n"
          ]
        }
      ]
    },
    {
      "cell_type": "code",
      "source": [
        "#Encapsulation - private attribute cannot be accesessed at outside."
      ],
      "metadata": {
        "id": "jhh4LouxwM8K"
      },
      "execution_count": null,
      "outputs": []
    },
    {
      "cell_type": "code",
      "source": [
        "class Product:\n",
        "  def __init__(self, name, price):\n",
        "    self.name = name  #public attribut\n",
        "    self._price = price  #encapsulated attribue / private\n",
        "\n",
        "  def get_price(self):\n",
        "    return self._price  #getter method to access the encapsulated attribute\n",
        "\n",
        "  def set_price(self, price):\n",
        "    if price >= 0:\n",
        "      self._price = price\n",
        "    else:\n",
        "      print(\"price cannot be negative\")      #to modify the private attribute\n",
        "\n",
        "product = Product(\"Samsung\", 500) #Instantiate\n",
        "\n",
        "print(\"product Name:\", product.name) #public attribute\n",
        "\n",
        "print(\"Product price:\", product.get_price()) #private attribute\n",
        "\n",
        "product.set_price(-600)\n",
        "print(\"Updated Price:\", product.get_price())\n",
        "\n",
        "\n",
        "\n",
        "\n"
      ],
      "metadata": {
        "colab": {
          "base_uri": "https://localhost:8080/"
        },
        "id": "s4FfGgFdwTts",
        "outputId": "0759e520-ea54-47ca-a512-652f43f572bf"
      },
      "execution_count": 14,
      "outputs": [
        {
          "output_type": "stream",
          "name": "stdout",
          "text": [
            "product Name: Samsung\n",
            "Product price: 500\n",
            "price cannot be negative\n",
            "Updated Price: 500\n"
          ]
        }
      ]
    },
    {
      "cell_type": "code",
      "source": [
        "#Bookstore\n",
        "\n",
        "class Book:\n",
        "  def __init__(self, title, quantity, author, price):\n",
        "    self.title = title\n",
        "    self.quantity = quantity\n",
        "    self.author = author\n",
        "    self.__price = price #private attribute\n",
        "    self.__discount = None\n",
        "\n",
        "\n",
        "  def set_discount(self, discount):\n",
        "    self.__discount = discount\n",
        "\n",
        "  def get_price(self):\n",
        "    if self.__discount:\n",
        "      return self.__price * (1-self.__discount)  #1-0.2(20% discount)-->80% after discounted price\n",
        "    else:\n",
        "      return self.__price\n",
        "\n",
        "  def __str__(self):\n",
        "    return f\"Book: {self.title}, Quantity: {self.quantity}, Author: {self.author}, price: {self.get_price()} \"\n",
        "\n",
        "book1 = Book(\"abc\", 20, \"James\", 100)\n",
        "\n",
        "single_book = Book(\"abc\", 1, \"James\", 200)\n",
        "bulk_book = Book(\"cvbg\", 20, \"Jack\", 200)\n",
        "bulk_book.set_discount(0.20)\n",
        "\n",
        "# print(single_book.get_price)\n",
        "# print(bulk_book.get_price)\n",
        "print(single_book)\n",
        "print(bulk_book)\n"
      ],
      "metadata": {
        "colab": {
          "base_uri": "https://localhost:8080/"
        },
        "id": "IOl0SkHM0Bwv",
        "outputId": "fa70fb4c-988c-42c7-af7a-78a7637c10c9"
      },
      "execution_count": 26,
      "outputs": [
        {
          "output_type": "stream",
          "name": "stdout",
          "text": [
            "Book: abc, Quantity: 1, Author: James, price: 200 \n",
            "Book: cvbg, Quantity: 20, Author: Jack, price: 160.0 \n"
          ]
        }
      ]
    },
    {
      "cell_type": "code",
      "source": [
        "class Calculator:\n",
        "\n",
        "    def __init__(self,num1,num2):\n",
        "        self.num1=num1\n",
        "        self.num2=num2\n",
        "\n",
        "\n",
        "    def add(self):\n",
        "        return self.num1+self.num2\n",
        "\n",
        "    def mul(self):\n",
        "        return self.num1*self.num2\n",
        "\n",
        "    def sub(self):\n",
        "        return self.num1-self.num2\n",
        "\n",
        "    def div(self):\n",
        "        return self.num1/self.num2\n",
        "\n",
        "    def mod(self):\n",
        "        return self.num1%self.num2\n",
        "\n",
        "    def floo(self):\n",
        "        return self.num1//self.num2\n",
        "\n",
        "\n",
        "cal =Calculator(10,6)#object creation\n",
        "print(\"Calcutator base function.....\")\n",
        "Addition=cal.add();\n",
        "multiplication=cal.mul();\n",
        "subration=cal.sub();\n",
        "Divition=cal.div();\n",
        "Modular=cal.mod();\n",
        "Floor=cal.floo();\n",
        "\n",
        "print(\"Add value:\",Addition)\n",
        "print(\"Mul value:\",multiplication)\n",
        "print(\"Sub value:\",subration)\n",
        "print(\"Div value:\",Divition)\n",
        "print(\"Mod value:\",Modular)\n",
        "print(\"Floor value:\",Floor)"
      ],
      "metadata": {
        "colab": {
          "base_uri": "https://localhost:8080/"
        },
        "id": "jUBy18Y86QeU",
        "outputId": "da8ac3e9-adbc-4d0e-d774-2ec831f6a668"
      },
      "execution_count": 27,
      "outputs": [
        {
          "output_type": "stream",
          "name": "stdout",
          "text": [
            "Calcutator base function.....\n",
            "Add value: 16\n",
            "Mul value: 60\n",
            "Sub value: 4\n",
            "Div value: 1.6666666666666667\n",
            "Mod value: 4\n",
            "Floor value: 1\n"
          ]
        }
      ]
    },
    {
      "cell_type": "code",
      "source": [
        "class Calculator:\n",
        "  def add(self, num1, num2):\n",
        "    return num1 + num2\n",
        "  def subtract(self, num1, num2):\n",
        "    return num1 - num2\n",
        "  def multiply(self, num1, num2):\n",
        "    return num1 * num2\n",
        "\n",
        "  def divide(self, num1, num2):\n",
        "    if num2 == 0:\n",
        "      print(\"Cannot divide\")\n",
        "    else:\n",
        "      num1/num2\n",
        "\n",
        "calculator = Calculator()\n",
        "\n",
        "num1 = float(input(\"Enter the first number:\"))\n",
        "num2 = float(input(\"Enter the second number:\"))\n",
        "operation = input(\"Enter operation (+, -, *, /): \")\n",
        "\n",
        "if operation == '+':\n",
        "  result = calculator.add(num1, num2)\n",
        "elif operation == '-':\n",
        "  result = calculator.subtract(num1, num2)\n",
        "elif operation == '*':\n",
        "  result = calculator.multiply(num1, num2)\n",
        "elif operation == '/':\n",
        "  result = calculator.divide(num1, num2)\n",
        "else:\n",
        "  result = \"Invalid operation.\"\n",
        "\n",
        "print(\"Result:\", result)"
      ],
      "metadata": {
        "colab": {
          "base_uri": "https://localhost:8080/"
        },
        "id": "Dk2iCTWc6uTu",
        "outputId": "682a6951-3792-4297-c65e-1fd9c507f90f"
      },
      "execution_count": 31,
      "outputs": [
        {
          "output_type": "stream",
          "name": "stdout",
          "text": [
            "Enter the first number:10\n",
            "Enter the second number:90\n",
            "Enter operation (+, -, *, /): @\n",
            "Result: Invalid operation.\n"
          ]
        }
      ]
    },
    {
      "cell_type": "code",
      "source": [
        "class Student:\n",
        "\n",
        "    def __init__(self,name,rollnumber):\n",
        "        self.name=name\n",
        "        self.rollnumber=rollnumber\n",
        "\n",
        "\n",
        "\n",
        "    def Display(self):\n",
        "        print(\"Student anme is \",self.name)\n",
        "        print(\"Enroll number is \",self.rollnumber)\n",
        "\n",
        "    def setAge(self,age):\n",
        "        self.age=age\n",
        "        return f\"my Age is {self.age}\"\n",
        "\n",
        "    def setMarks(self,mar):\n",
        "        self.mar=mar\n",
        "        return f\"my marks is {self.mar}\"\n",
        "\n",
        "student_name = input(\"Enter student name: \")\n",
        "roll_number = input(\"Enter the roll num:\")\n",
        "\n",
        "student1 = Student(student_name, roll_number)\n",
        "student1.Display();\n",
        "# age=student1.setAge=25;\n",
        "# marks=student1.setMarks=93;\n",
        "\n",
        "# print(\"Student Age is:\",age)\n",
        "# print(\"Siudent Marks is:\",marks)\n",
        "\n",
        "age = int(input(\"Enter student's age: \"))\n",
        "marks = float(input(\"Enter the marks: \"))\n",
        "\n",
        "print(student1.setAge(age));\n",
        "print(student1.setMarks(marks));"
      ],
      "metadata": {
        "colab": {
          "base_uri": "https://localhost:8080/"
        },
        "id": "wZ9CKbUp95u5",
        "outputId": "0ad2b66d-dd5d-46cd-8db0-728f799f06a8"
      },
      "execution_count": 33,
      "outputs": [
        {
          "output_type": "stream",
          "name": "stdout",
          "text": [
            "Enter student name: Aswin\n",
            "Enter the roll num:100\n",
            "Student anme is  Aswin\n",
            "Enroll number is  100\n",
            "Enter student's age: 20\n",
            "Enter the marks: 100\n",
            "my Age is 20\n",
            "my marks is 100.0\n"
          ]
        }
      ]
    },
    {
      "cell_type": "code",
      "source": [
        "class Circle:\n",
        "\n",
        "    def __init__(self,radius):\n",
        "        self.radius=radius\n",
        "\n",
        "    def getArea(self):\n",
        "        return f\"This circle Area is(22/7*radius*radius):{22/7*self.radius*self.radius}\"\n",
        "\n",
        "    def getCircumference(self):\n",
        "        return f\"This circle Circumference is(2*22/7*radius):{2*3.14*self.radius}\"\n",
        "\n",
        "\n",
        "circle1=Circle(7);#object creation\n",
        "\n",
        "x=circle1.getArea();\n",
        "y=circle1.getCircumference();\n",
        "\n",
        "print(x);\n",
        "print(y);\n"
      ],
      "metadata": {
        "colab": {
          "base_uri": "https://localhost:8080/"
        },
        "id": "B3DoaMF7_GN2",
        "outputId": "4a1f7278-a531-4ed9-b5b7-c3393fe6d3c9"
      },
      "execution_count": 36,
      "outputs": [
        {
          "output_type": "stream",
          "name": "stdout",
          "text": [
            "This circle Area is(22/7*radius*radius):154.0\n",
            "This circle Circumference is(2*22/7*radius):43.96\n"
          ]
        }
      ]
    }
  ]
}