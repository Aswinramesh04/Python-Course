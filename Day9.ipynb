{
  "nbformat": 4,
  "nbformat_minor": 0,
  "metadata": {
    "colab": {
      "provenance": [],
      "authorship_tag": "ABX9TyMm6LEZtysj4sbN3DYi9f3v",
      "include_colab_link": true
    },
    "kernelspec": {
      "name": "python3",
      "display_name": "Python 3"
    },
    "language_info": {
      "name": "python"
    }
  },
  "cells": [
    {
      "cell_type": "markdown",
      "metadata": {
        "id": "view-in-github",
        "colab_type": "text"
      },
      "source": [
        "<a href=\"https://colab.research.google.com/github/Aswinramesh04/Python-Course/blob/main/Day9.ipynb\" target=\"_parent\"><img src=\"https://colab.research.google.com/assets/colab-badge.svg\" alt=\"Open In Colab\"/></a>"
      ]
    },
    {
      "cell_type": "code",
      "execution_count": null,
      "metadata": {
        "id": "n1FxvPCw5I_L"
      },
      "outputs": [],
      "source": [
        "Python Regex - Regular Expression"
      ]
    },
    {
      "cell_type": "code",
      "source": [
        "re - password & email validation"
      ],
      "metadata": {
        "id": "LUyxRoqy9Yu5"
      },
      "execution_count": null,
      "outputs": []
    },
    {
      "cell_type": "code",
      "source": [
        "import re\n",
        "\n"
      ],
      "metadata": {
        "id": "u-TqU57z9dN3"
      },
      "execution_count": 1,
      "outputs": []
    },
    {
      "cell_type": "code",
      "source": [
        "aswin123@gmail.com\n",
        "\n",
        "[a-z0-9][@]a-z.a-z"
      ],
      "metadata": {
        "id": "Bj-UFhWY9kJj"
      },
      "execution_count": null,
      "outputs": []
    },
    {
      "cell_type": "code",
      "source": [
        "^ - beginning\n",
        "$ - word end\n",
        "*  - mid\n",
        ". - period"
      ],
      "metadata": {
        "id": "56jvjlkP94wp"
      },
      "execution_count": null,
      "outputs": []
    },
    {
      "cell_type": "code",
      "source": [
        "findall\n",
        "search\n",
        "split\n",
        "sub"
      ],
      "metadata": {
        "id": "fmqbDyzq-LcJ"
      },
      "execution_count": null,
      "outputs": []
    },
    {
      "cell_type": "code",
      "source": [
        "import re\n",
        "\n",
        "x = \"india\"\n",
        "y = re.search(\"^i...a$\", x)\n",
        "if y:\n",
        "  print(\"Search found\")\n",
        "else:\n",
        "  print(\"Not found\")"
      ],
      "metadata": {
        "colab": {
          "base_uri": "https://localhost:8080/"
        },
        "id": "5R-BYkhA-UYF",
        "outputId": "67c4e9d9-4c74-45ad-c3b1-4299df416a24"
      },
      "execution_count": 3,
      "outputs": [
        {
          "output_type": "stream",
          "name": "stdout",
          "text": [
            "Search found\n"
          ]
        }
      ]
    },
    {
      "cell_type": "code",
      "source": [
        "import re\n",
        "\n",
        "x = \"india\"\n",
        "y = re.findall(\"kerala\", x)\n",
        "print(y)"
      ],
      "metadata": {
        "colab": {
          "base_uri": "https://localhost:8080/"
        },
        "id": "LGPc4nb9_Uhk",
        "outputId": "f51ff8d6-be5f-41cc-9ec5-54e8b0ee8c09"
      },
      "execution_count": 6,
      "outputs": [
        {
          "output_type": "stream",
          "name": "stdout",
          "text": [
            "[]\n"
          ]
        }
      ]
    },
    {
      "cell_type": "code",
      "source": [
        "import re\n",
        "\n",
        "doc1 = \"helloo welcome to the class\"\n",
        "doc2 = \"welcomeshkjhkh\"\n",
        "result = re.findall(doc2, doc1)\n",
        "print(result)"
      ],
      "metadata": {
        "colab": {
          "base_uri": "https://localhost:8080/"
        },
        "id": "Mh-GmaaNA5wn",
        "outputId": "d837b9b3-33c0-43bf-a6e1-354b5268e153"
      },
      "execution_count": 8,
      "outputs": [
        {
          "output_type": "stream",
          "name": "stdout",
          "text": [
            "[]\n"
          ]
        }
      ]
    },
    {
      "cell_type": "code",
      "source": [
        "import re\n",
        "\n",
        "x = \"i like india\"\n",
        "y = re.search(\"like\", x)\n",
        "print(y.span())"
      ],
      "metadata": {
        "colab": {
          "base_uri": "https://localhost:8080/"
        },
        "id": "rJr7lgiuBV1z",
        "outputId": "f53b1550-ba7c-44bf-e31d-fbae957b3ea1"
      },
      "execution_count": 9,
      "outputs": [
        {
          "output_type": "stream",
          "name": "stdout",
          "text": [
            "(2, 6)\n"
          ]
        }
      ]
    },
    {
      "cell_type": "code",
      "source": [
        "import re\n",
        "\n",
        "x = \"i like india\"\n",
        "y = re.search(\"like\", x)\n",
        "print(y.start())"
      ],
      "metadata": {
        "colab": {
          "base_uri": "https://localhost:8080/"
        },
        "id": "AIbqUqkSB2M3",
        "outputId": "5d0365a9-6b3d-42db-fa76-766e590234e3"
      },
      "execution_count": 10,
      "outputs": [
        {
          "output_type": "stream",
          "name": "stdout",
          "text": [
            "2\n"
          ]
        }
      ]
    },
    {
      "cell_type": "code",
      "source": [
        "import re\n",
        "\n",
        "x = \"i like india\"\n",
        "y = re.split(\"india\", x)\n",
        "print(y)"
      ],
      "metadata": {
        "colab": {
          "base_uri": "https://localhost:8080/"
        },
        "id": "3AuBCAhpCAPu",
        "outputId": "aacbcac4-17a6-4882-f21d-68204e4cc493"
      },
      "execution_count": 13,
      "outputs": [
        {
          "output_type": "stream",
          "name": "stdout",
          "text": [
            "['i like ', '']\n"
          ]
        }
      ]
    },
    {
      "cell_type": "code",
      "source": [
        "import re\n",
        "\n",
        "x = \"i like india\"\n",
        "y = re.sub(\"l\", \"a\", x)\n",
        "print(y)"
      ],
      "metadata": {
        "colab": {
          "base_uri": "https://localhost:8080/"
        },
        "id": "-TWoECaNCvlm",
        "outputId": "3caaf3f3-1443-4e5b-e13c-b16950adee1c"
      },
      "execution_count": 15,
      "outputs": [
        {
          "output_type": "stream",
          "name": "stdout",
          "text": [
            "i aike india\n"
          ]
        }
      ]
    },
    {
      "cell_type": "code",
      "source": [
        "[abc] - a , b or c\n",
        "[^abc] - except a, b,c\n",
        "[a-z] -\n",
        "[A-Z]\n",
        "[0-9]\n",
        "[a-zA-Z]"
      ],
      "metadata": {
        "id": "x7lisYJPDD5w"
      },
      "execution_count": null,
      "outputs": []
    },
    {
      "cell_type": "code",
      "source": [
        "from os import times\n",
        "quantifier\n",
        "[a-z]? - either 0 or 1 time\n",
        "[a-z]* - occurs 0 or more times\n",
        "[a-z]+ - occurs 1 or more times\n",
        "[a-z]{n} - occurs n times\n",
        "[a-z][n, ] - occurs n or more times\n",
        "[a-z],{y,z} - occurs atleast y times , but less than z times"
      ],
      "metadata": {
        "id": "WbZmAYu2D3vy"
      },
      "execution_count": null,
      "outputs": []
    },
    {
      "cell_type": "code",
      "source": [
        "metacharacter\n",
        "\\d, \\w"
      ],
      "metadata": {
        "id": "A0f-e794FrKd"
      },
      "execution_count": null,
      "outputs": []
    },
    {
      "cell_type": "code",
      "source": [
        "import re\n",
        "\n",
        "pattern = \"[a-zA-Z0-9\\-\\.]+[@][a-z]+[\\.][a-z]{2,3}\"\n",
        "testing = \"aswin12345@gmail.com\"\n",
        "result = re.match(pattern, testing)\n",
        "if result:\n",
        "  print(\"Search found\")\n",
        "else:\n",
        "  print(\"Not found\")"
      ],
      "metadata": {
        "colab": {
          "base_uri": "https://localhost:8080/"
        },
        "id": "rD2scSj-HEeM",
        "outputId": "192db263-00a2-471b-a62f-ad87b0181d70"
      },
      "execution_count": 20,
      "outputs": [
        {
          "output_type": "stream",
          "name": "stdout",
          "text": [
            "Search found\n"
          ]
        }
      ]
    },
    {
      "cell_type": "code",
      "source": [
        "gmail\n",
        "asssswin123@gmail.com"
      ],
      "metadata": {
        "id": "t9uYpOz2HSZS"
      },
      "execution_count": null,
      "outputs": []
    },
    {
      "cell_type": "code",
      "source": [
        "[a-zA-Z0-9\\-\\.]+[@][a-z]+[\\.][a-z]{2,3}"
      ],
      "metadata": {
        "id": "s6XGnWVPHYCW"
      },
      "execution_count": null,
      "outputs": []
    },
    {
      "cell_type": "code",
      "source": [
        "Metacharacter:\n",
        "\n",
        "\\A - match beginning word\n",
        "\\d - decimal\n",
        "\\D - Non decimal\n",
        "\\w - alphanumeric\n",
        "\\W - oppo. to alphanumeric(@#$%^)\n",
        "\\s - search whitespace\n",
        "\\Z - ending"
      ],
      "metadata": {
        "id": "mMdlXhxkJVGp"
      },
      "execution_count": null,
      "outputs": []
    },
    {
      "cell_type": "code",
      "source": [
        "import re\n",
        "\n",
        "pattern = \"\\Aamerica\" # match beginning word\n",
        "testing = \"the america\"\n",
        "result = re.match(pattern, testing)\n",
        "if result:\n",
        "  print(\"Search found\")\n",
        "else:\n",
        "  print(\"Not found\")"
      ],
      "metadata": {
        "id": "Ce-wiNwsJS_8",
        "outputId": "6bf04fec-ea85-438e-afd0-cad798719cd2",
        "colab": {
          "base_uri": "https://localhost:8080/"
        }
      },
      "execution_count": 45,
      "outputs": [
        {
          "output_type": "stream",
          "name": "stdout",
          "text": [
            "Not found\n"
          ]
        }
      ]
    },
    {
      "cell_type": "code",
      "source": [
        "import re\n",
        "\n",
        "pattern = \"\\d\" # decimal #^a...n$\n",
        "testing = \"123aswin\"\n",
        "result = re.match(pattern, testing)\n",
        "if result:\n",
        "  print(\"Search found\")\n",
        "else:\n",
        "  print(\"Not found\")"
      ],
      "metadata": {
        "id": "DzgBZG5AJ_Sz",
        "outputId": "a3368656-5d3a-4bf6-e396-f33f82d6d85e",
        "colab": {
          "base_uri": "https://localhost:8080/"
        }
      },
      "execution_count": 28,
      "outputs": [
        {
          "output_type": "stream",
          "name": "stdout",
          "text": [
            "Search found\n"
          ]
        }
      ]
    },
    {
      "cell_type": "code",
      "source": [
        "import re\n",
        "\n",
        "pattern = \"\\d\" # decimal #^a...n$\n",
        "testing = \"aswin\"\n",
        "result = re.match(pattern, testing)\n",
        "if result:\n",
        "  print(\"Search found\")\n",
        "else:\n",
        "  print(\"Not found\")"
      ],
      "metadata": {
        "id": "7MvWdBgGKuKR",
        "outputId": "ccd5d36f-0de5-442b-e80f-a155f9f35640",
        "colab": {
          "base_uri": "https://localhost:8080/"
        }
      },
      "execution_count": 29,
      "outputs": [
        {
          "output_type": "stream",
          "name": "stdout",
          "text": [
            "Not found\n"
          ]
        }
      ]
    },
    {
      "cell_type": "code",
      "source": [
        "import re\n",
        "\n",
        "pattern = \"\\D\" # Non-decimal #^a...n$\n",
        "testing = \"aswin\"\n",
        "result = re.match(pattern, testing)\n",
        "if result:\n",
        "  print(\"Search found\")\n",
        "else:\n",
        "  print(\"Not found\")"
      ],
      "metadata": {
        "id": "rEXxCKXrKx3t",
        "outputId": "61f3a855-a986-4041-aaa2-06bb4737d005",
        "colab": {
          "base_uri": "https://localhost:8080/"
        }
      },
      "execution_count": 30,
      "outputs": [
        {
          "output_type": "stream",
          "name": "stdout",
          "text": [
            "Search found\n"
          ]
        }
      ]
    },
    {
      "cell_type": "code",
      "source": [
        "import re\n",
        "\n",
        "pattern = \"\\s\" # Non-decimal #^a...n$\n",
        "testing = \"the aswin\"\n",
        "result = re.search(pattern, testing)\n",
        "if result:\n",
        "  print(\"Search found\")\n",
        "else:\n",
        "  print(\"Not found\")"
      ],
      "metadata": {
        "id": "eXG783I2K_RW",
        "outputId": "9c3005eb-c9ee-4ab1-c0a6-82cd9903d7fd",
        "colab": {
          "base_uri": "https://localhost:8080/"
        }
      },
      "execution_count": 33,
      "outputs": [
        {
          "output_type": "stream",
          "name": "stdout",
          "text": [
            "Search found\n"
          ]
        }
      ]
    },
    {
      "cell_type": "code",
      "source": [
        "import re\n",
        "\n",
        "pattern = \"\\w\" # alphanumeric [a-zA-z0-9]+@[a-z]+][\\.][a-z]{3}\n",
        "testing = \"aswin11465@gmail.com\"\n",
        "result = re.search(pattern, testing)\n",
        "if result:\n",
        "  print(\"Search found\")\n",
        "else:\n",
        "  print(\"Not found\")"
      ],
      "metadata": {
        "id": "VuVG9BVTLhEN",
        "outputId": "6054c95d-7bfe-46e1-d1c3-fbba443c2a25",
        "colab": {
          "base_uri": "https://localhost:8080/"
        }
      },
      "execution_count": 37,
      "outputs": [
        {
          "output_type": "stream",
          "name": "stdout",
          "text": [
            "Search found\n"
          ]
        }
      ]
    },
    {
      "cell_type": "code",
      "source": [
        "import re\n",
        "\n",
        "pattern = \"\\W\" # opposite of alphanumeric [a-zA-z0-9]+@[a-z]+][\\.][a-z]{3}\n",
        "testing = \"aswin11465@gmail.com\"\n",
        "result = re.match(pattern, testing)\n",
        "if result:\n",
        "  print(\"Search found\")\n",
        "else:\n",
        "  print(\"Not found\")"
      ],
      "metadata": {
        "id": "Zf3v3xCqMF1R",
        "outputId": "c871011b-9ce9-4915-86bc-7c588adc51ae",
        "colab": {
          "base_uri": "https://localhost:8080/"
        }
      },
      "execution_count": 40,
      "outputs": [
        {
          "output_type": "stream",
          "name": "stdout",
          "text": [
            "Not found\n"
          ]
        }
      ]
    },
    {
      "cell_type": "code",
      "source": [
        "import re\n",
        "\n",
        "pattern = \"\\W\" # opposite of alphanumeric [a-zA-z0-9]+@[a-z]+][\\.][a-z]{3}\n",
        "testing = \"@#$%^\"\n",
        "result = re.match(pattern, testing)\n",
        "if result:\n",
        "  print(\"Search found\")\n",
        "else:\n",
        "  print(\"Not found\")"
      ],
      "metadata": {
        "id": "iJNd2bO8MqKr",
        "outputId": "e7e76089-bb27-42c2-bc54-b5ff41465af0",
        "colab": {
          "base_uri": "https://localhost:8080/"
        }
      },
      "execution_count": 41,
      "outputs": [
        {
          "output_type": "stream",
          "name": "stdout",
          "text": [
            "Search found\n"
          ]
        }
      ]
    },
    {
      "cell_type": "code",
      "source": [
        "import re\n",
        "\n",
        "pattern = \"like\\Z\" # end. of word\n",
        "testing = \"I like python\"\n",
        "result = re.search(pattern, testing)\n",
        "if result:\n",
        "  print(\"Search found\")\n",
        "else:\n",
        "  print(\"Not found\")"
      ],
      "metadata": {
        "id": "gOXpdpEyNVSk",
        "outputId": "0b104ef8-640e-4dc8-cce9-02cc874c42c4",
        "colab": {
          "base_uri": "https://localhost:8080/"
        }
      },
      "execution_count": 48,
      "outputs": [
        {
          "output_type": "stream",
          "name": "stdout",
          "text": [
            "Not found\n"
          ]
        }
      ]
    },
    {
      "cell_type": "code",
      "source": [
        "import re\n",
        "\n",
        "pattern = \"ma*n\" # *- occurs 0 or more time\n",
        "testing = \"maaaaaaan\"\n",
        "result = re.match(pattern, testing)\n",
        "if result:\n",
        "  print(\"Search found\")\n",
        "else:\n",
        "  print(\"Not found\")"
      ],
      "metadata": {
        "id": "R10CTrmwOFT2",
        "outputId": "20bfe0a2-210c-46f4-d7c9-cc0681028f9c",
        "colab": {
          "base_uri": "https://localhost:8080/"
        }
      },
      "execution_count": 61,
      "outputs": [
        {
          "output_type": "stream",
          "name": "stdout",
          "text": [
            "Search found\n"
          ]
        }
      ]
    },
    {
      "cell_type": "code",
      "source": [
        "import re\n",
        "\n",
        "pattern = \"ma*n\" # *- occurs 0 or more time\n",
        "testing = \"maaaaaaan\"\n",
        "result = re.match(pattern, testing)\n",
        "if result:\n",
        "  print(\"Search found\")\n",
        "else:\n",
        "  print(\"Not found\")"
      ],
      "metadata": {
        "id": "nsTcf9MyP7dN"
      },
      "execution_count": null,
      "outputs": []
    },
    {
      "cell_type": "code",
      "source": [
        "import re\n",
        "\n",
        "pattern = \"ma+n\" # +- one or more (no 0)\n",
        "testing = \"mn\"\n",
        "result = re.match(pattern, testing)\n",
        "if result:\n",
        "  print(\"Search found\")\n",
        "else:\n",
        "  print(\"Not found\")"
      ],
      "metadata": {
        "id": "uX6e7JFGQDCX",
        "outputId": "3b1eb55f-361f-4038-8fa4-12eafe706f65",
        "colab": {
          "base_uri": "https://localhost:8080/"
        }
      },
      "execution_count": 65,
      "outputs": [
        {
          "output_type": "stream",
          "name": "stdout",
          "text": [
            "Not found\n"
          ]
        }
      ]
    },
    {
      "cell_type": "code",
      "source": [
        "import re\n",
        "\n",
        "pattern = \"ma?n\" # ? - either 0 or 1\n",
        "testing = \"maaaaan\"\n",
        "result = re.match(pattern, testing)\n",
        "if result:\n",
        "  print(\"Search found\")\n",
        "else:\n",
        "  print(\"Not found\")"
      ],
      "metadata": {
        "id": "LhusEtysQbew",
        "outputId": "cf47cbd3-4185-4923-d65a-a0060de1b6c0",
        "colab": {
          "base_uri": "https://localhost:8080/"
        }
      },
      "execution_count": 67,
      "outputs": [
        {
          "output_type": "stream",
          "name": "stdout",
          "text": [
            "Not found\n"
          ]
        }
      ]
    },
    {
      "cell_type": "code",
      "source": [
        "datetime."
      ],
      "metadata": {
        "id": "Q5RxgQrzQ0Sk"
      },
      "execution_count": null,
      "outputs": []
    },
    {
      "cell_type": "code",
      "source": [
        "import datetime\n",
        "\n",
        "result = datetime.datetime.now()\n",
        "print(result)"
      ],
      "metadata": {
        "id": "HRatFuN6Q5xW",
        "outputId": "9d553da0-424f-4b85-cbd8-d629d2520ca5",
        "colab": {
          "base_uri": "https://localhost:8080/"
        }
      },
      "execution_count": 69,
      "outputs": [
        {
          "output_type": "stream",
          "name": "stdout",
          "text": [
            "2024-04-12 17:04:13.869990\n"
          ]
        }
      ]
    },
    {
      "cell_type": "code",
      "source": [
        "import datetime\n",
        "\n",
        "result = datetime.time()\n",
        "print(result)"
      ],
      "metadata": {
        "id": "7VQ6bL7SRJya",
        "outputId": "ac86afe3-e7f4-4948-a1ef-1898807526b6",
        "colab": {
          "base_uri": "https://localhost:8080/"
        }
      },
      "execution_count": 74,
      "outputs": [
        {
          "output_type": "stream",
          "name": "stdout",
          "text": [
            "00:00:00\n"
          ]
        }
      ]
    },
    {
      "cell_type": "code",
      "source": [
        "print(dir(datetime))"
      ],
      "metadata": {
        "id": "oesSzaCeRbmz",
        "outputId": "ce82e2ce-d638-4fc7-899c-c39e4a663b52",
        "colab": {
          "base_uri": "https://localhost:8080/"
        }
      },
      "execution_count": 73,
      "outputs": [
        {
          "output_type": "stream",
          "name": "stdout",
          "text": [
            "['MAXYEAR', 'MINYEAR', '__all__', '__builtins__', '__cached__', '__doc__', '__file__', '__loader__', '__name__', '__package__', '__spec__', 'date', 'datetime', 'datetime_CAPI', 'sys', 'time', 'timedelta', 'timezone', 'tzinfo']\n"
          ]
        }
      ]
    },
    {
      "cell_type": "code",
      "source": [
        "import datetime\n",
        "\n",
        "result = datetime.timedelta()\n",
        "print(result)"
      ],
      "metadata": {
        "id": "RPQUf6pjUD9f",
        "outputId": "f248bc08-4847-41f6-ae7a-764dfb0ea74d",
        "colab": {
          "base_uri": "https://localhost:8080/"
        }
      },
      "execution_count": 90,
      "outputs": [
        {
          "output_type": "stream",
          "name": "stdout",
          "text": [
            "0:00:00\n"
          ]
        }
      ]
    },
    {
      "cell_type": "code",
      "source": [
        "import datetime\n",
        "\n",
        "result = datetime.timedelta()\n",
        "print(result)"
      ],
      "metadata": {
        "id": "u3-aAUjuRwvu",
        "outputId": "08074846-5816-4e69-87b8-f38ddee5f0e4",
        "colab": {
          "base_uri": "https://localhost:8080/"
        }
      },
      "execution_count": 77,
      "outputs": [
        {
          "output_type": "stream",
          "name": "stdout",
          "text": [
            "0:00:00\n"
          ]
        }
      ]
    },
    {
      "cell_type": "code",
      "source": [
        "x = datetime.date(2024, 12, 4)\n",
        "print(x)"
      ],
      "metadata": {
        "id": "K2PqFT3NSEjE",
        "outputId": "5da71f88-e919-4732-d12e-259ddd6ef9ea",
        "colab": {
          "base_uri": "https://localhost:8080/"
        }
      },
      "execution_count": 78,
      "outputs": [
        {
          "output_type": "stream",
          "name": "stdout",
          "text": [
            "2024-12-04\n"
          ]
        }
      ]
    },
    {
      "cell_type": "code",
      "source": [
        "import datetime\n",
        "result = datetime.date.today()\n",
        "\n",
        "print(result.year)\n",
        "print(result.month)\n",
        "print(result.day)"
      ],
      "metadata": {
        "id": "EFirmM-9SVNX",
        "outputId": "ef89dd9d-1027-4424-eeb5-07a746837ee7",
        "colab": {
          "base_uri": "https://localhost:8080/"
        }
      },
      "execution_count": 85,
      "outputs": [
        {
          "output_type": "stream",
          "name": "stdout",
          "text": [
            "2024\n",
            "4\n",
            "12\n"
          ]
        }
      ]
    },
    {
      "cell_type": "code",
      "source": [
        "#strftime\n",
        "#strptime - %y %m %d"
      ],
      "metadata": {
        "id": "BpD8sPPATDV-"
      },
      "execution_count": null,
      "outputs": []
    },
    {
      "cell_type": "code",
      "source": [
        "\\d{1,2}, \\d{1,2}, \\d{4} - re \\\\"
      ],
      "metadata": {
        "id": "GSKFQqpZTJrB"
      },
      "execution_count": null,
      "outputs": []
    },
    {
      "cell_type": "code",
      "source": [],
      "metadata": {
        "id": "LbH732kpTl74"
      },
      "execution_count": null,
      "outputs": []
    },
    {
      "cell_type": "code",
      "source": [
        "import re\n",
        "\n",
        "def format(dt):\n",
        "\n",
        "  return re.sub(r'(\\d{4})-(\\d{1,2})-(\\d{1,2})', \"\\\\3-\\\\2-\\\\1\", dt)\n",
        "\n",
        "dt1 = \"2024-12-12\"\n",
        "print(dt1)\n",
        "r = format(dt1)\n",
        "print(r)"
      ],
      "metadata": {
        "id": "YGILbbCXTbQ_",
        "outputId": "0efbadc7-2192-4209-c4e1-676e27923e8b",
        "colab": {
          "base_uri": "https://localhost:8080/"
        }
      },
      "execution_count": 100,
      "outputs": [
        {
          "output_type": "stream",
          "name": "stdout",
          "text": [
            "2024-12-12\n",
            "12-12-2024\n"
          ]
        }
      ]
    },
    {
      "cell_type": "code",
      "source": [
        "from datetime import datetime\n",
        "\n",
        "\n",
        "def format(date_str):\n",
        "  before = datetime.strptime(date_str, \"%Y-%m-%d\")\n",
        "  after = before.strftime(\"%d-%m-%Y\")\n",
        "  return after\n",
        "\n",
        "before_1 = '2024-05-20'\n",
        "convertion = format(before_1)\n",
        "print(convertion)"
      ],
      "metadata": {
        "id": "KSldK8l9T-7G",
        "outputId": "02d7e916-a730-4f16-b555-70b36b66571e",
        "colab": {
          "base_uri": "https://localhost:8080/"
        }
      },
      "execution_count": 95,
      "outputs": [
        {
          "output_type": "stream",
          "name": "stdout",
          "text": [
            "20-05-2024\n"
          ]
        }
      ]
    },
    {
      "cell_type": "code",
      "source": [],
      "metadata": {
        "id": "8mlLM27lWMOP"
      },
      "execution_count": null,
      "outputs": []
    }
  ]
}