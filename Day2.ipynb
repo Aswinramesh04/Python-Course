{
  "nbformat": 4,
  "nbformat_minor": 0,
  "metadata": {
    "colab": {
      "provenance": [],
      "authorship_tag": "ABX9TyP1ZdtFleyRIqItzj6QDUKi",
      "include_colab_link": true
    },
    "kernelspec": {
      "name": "python3",
      "display_name": "Python 3"
    },
    "language_info": {
      "name": "python"
    }
  },
  "cells": [
    {
      "cell_type": "markdown",
      "metadata": {
        "id": "view-in-github",
        "colab_type": "text"
      },
      "source": [
        "<a href=\"https://colab.research.google.com/github/Aswinramesh04/Python-Course/blob/main/Day2.ipynb\" target=\"_parent\"><img src=\"https://colab.research.google.com/assets/colab-badge.svg\" alt=\"Open In Colab\"/></a>"
      ]
    },
    {
      "cell_type": "code",
      "source": [
        "Day 2 Revision"
      ],
      "metadata": {
        "id": "twFhgwuG3Eh2"
      },
      "execution_count": null,
      "outputs": []
    },
    {
      "cell_type": "markdown",
      "source": [],
      "metadata": {
        "id": "ik4rK5jg3EY8"
      }
    },
    {
      "cell_type": "code",
      "execution_count": 1,
      "metadata": {
        "colab": {
          "base_uri": "https://localhost:8080/"
        },
        "id": "DaVUpK8G1Zk-",
        "outputId": "c6e4de16-9bb8-4839-9189-ba22531733c3"
      },
      "outputs": [
        {
          "output_type": "stream",
          "name": "stdout",
          "text": [
            "5\n",
            "srilanka\n"
          ]
        }
      ],
      "source": [
        "#case-sensitive\n",
        "a = 5\n",
        "A =\"srilanka\"\n",
        "\n",
        "print(a)\n",
        "print(A)"
      ]
    },
    {
      "cell_type": "code",
      "source": [
        "#Rulesmynum = [1,2,3] # starting should not be a num, no spaces, no \"-\"\n",
        "print(mynum)"
      ],
      "metadata": {
        "colab": {
          "base_uri": "https://localhost:8080/"
        },
        "id": "CCVfMUJe3Dku",
        "outputId": "20cbba15-5121-4043-fc11-d5fb012598e1"
      },
      "execution_count": 8,
      "outputs": [
        {
          "output_type": "stream",
          "name": "stdout",
          "text": [
            "[1, 2, 3]\n"
          ]
        }
      ]
    },
    {
      "cell_type": "code",
      "source": [
        "#multi word variable techniques:\n",
        "\n",
        "#camel case\n",
        "iLoveSrilanka = [1,2,3]\n",
        "print(iLoveSrilanka)\n",
        "#pascal case\n",
        "ILoveSriLanka = [1,2,3]\n",
        "print(iLoveSriLanka)\n",
        "\n",
        "#snake case\n",
        "i_Love_Srilanka = [1,2,3]\n",
        "print(i_Love_Srilanka)"
      ],
      "metadata": {
        "colab": {
          "base_uri": "https://localhost:8080/"
        },
        "id": "-JyRb1iv3ttD",
        "outputId": "e40ac5ec-e295-40f2-97de-f2e5c31928cb"
      },
      "execution_count": 11,
      "outputs": [
        {
          "output_type": "stream",
          "name": "stdout",
          "text": [
            "[1, 2, 3]\n",
            "[1, 2, 3]\n",
            "[1, 2, 3]\n"
          ]
        }
      ]
    },
    {
      "cell_type": "code",
      "source": [
        "33 keywords reserved - True,false,None"
      ],
      "metadata": {
        "id": "q5g_ufqw5Rkz"
      },
      "execution_count": null,
      "outputs": []
    },
    {
      "cell_type": "code",
      "source": [
        "x = 10 #literals"
      ],
      "metadata": {
        "id": "w-4RAAaL5V6n"
      },
      "execution_count": null,
      "outputs": []
    },
    {
      "cell_type": "code",
      "source": [
        "# Operators\n",
        "\n",
        "# Arithmetic - +,-,/,%,**\n",
        "# relational - <,>,==,!=\n",
        "# logical - and or not\n",
        "# Membership operator - in, not in"
      ],
      "metadata": {
        "id": "Xx9_c7_35jrl"
      },
      "execution_count": null,
      "outputs": []
    },
    {
      "cell_type": "code",
      "source": [
        "a = 3 #(/,%)\n",
        "b = 4\n",
        "\n",
        "a**b"
      ],
      "metadata": {
        "colab": {
          "base_uri": "https://localhost:8080/"
        },
        "id": "08E80lYX6hT4",
        "outputId": "83007c4f-1272-4edd-f0e2-5a1b66b48417"
      },
      "execution_count": 17,
      "outputs": [
        {
          "output_type": "execute_result",
          "data": {
            "text/plain": [
              "81"
            ]
          },
          "metadata": {},
          "execution_count": 17
        }
      ]
    },
    {
      "cell_type": "code",
      "source": [
        "a = 100 #logical\n",
        "b = 200\n",
        "\n",
        "if a!=b:\n",
        "  print(\"correct\")\n",
        "else:\n",
        "  print(\"Not correct\")"
      ],
      "metadata": {
        "colab": {
          "base_uri": "https://localhost:8080/"
        },
        "id": "-vDjTXrE55h0",
        "outputId": "45b273cf-c396-4ccd-8850-56f7dff0e3bc"
      },
      "execution_count": 13,
      "outputs": [
        {
          "output_type": "stream",
          "name": "stdout",
          "text": [
            "correct\n"
          ]
        }
      ]
    },
    {
      "cell_type": "code",
      "source": [
        "x = 5\n",
        "\n",
        "print(x>3 and x<10)\n",
        "print(x>3 or x<10)"
      ],
      "metadata": {
        "colab": {
          "base_uri": "https://localhost:8080/"
        },
        "id": "PRoDvE5r67dL",
        "outputId": "c39de90c-3213-4ddd-d838-392130f9eca9"
      },
      "execution_count": 19,
      "outputs": [
        {
          "output_type": "stream",
          "name": "stdout",
          "text": [
            "True\n",
            "True\n"
          ]
        }
      ]
    },
    {
      "cell_type": "code",
      "source": [
        "#format strings\n",
        "name = \"Joy\"\n",
        "age = 20\n",
        "\n",
        "sample = f\"Hello, my name is {name} and I'm {age} years old.\"\n",
        "print(sample)"
      ],
      "metadata": {
        "colab": {
          "base_uri": "https://localhost:8080/"
        },
        "id": "vq9W67bp7a1N",
        "outputId": "2515c4d7-de5b-4bbb-d52a-ba6d346cb2f6"
      },
      "execution_count": 21,
      "outputs": [
        {
          "output_type": "stream",
          "name": "stdout",
          "text": [
            "Hello, my name is Joy and I'm 20 years old.\n"
          ]
        }
      ]
    },
    {
      "cell_type": "code",
      "source": [
        "#range\n",
        "\n",
        "sample = range(10)\n",
        "for i in sample:\n",
        "  print(i)"
      ],
      "metadata": {
        "colab": {
          "base_uri": "https://localhost:8080/"
        },
        "id": "AM6zAm_f8Der",
        "outputId": "aac12c91-a56e-4ced-f0d7-db3b23d7c080"
      },
      "execution_count": 22,
      "outputs": [
        {
          "output_type": "stream",
          "name": "stdout",
          "text": [
            "0\n",
            "1\n",
            "2\n",
            "3\n",
            "4\n",
            "5\n",
            "6\n",
            "7\n",
            "8\n",
            "9\n"
          ]
        }
      ]
    },
    {
      "cell_type": "code",
      "source": [
        "#range\n",
        "def multiplication_table(n):\n",
        "  for i in range(1,16):\n",
        "    print(f\"{n} * {i} = {n * i}\")\n",
        "multiplication_table(10)"
      ],
      "metadata": {
        "colab": {
          "base_uri": "https://localhost:8080/"
        },
        "id": "U2fcZcpk8qma",
        "outputId": "642af308-b328-4439-a65e-cc784dffc31a"
      },
      "execution_count": 24,
      "outputs": [
        {
          "output_type": "stream",
          "name": "stdout",
          "text": [
            "10 * 1 = 10\n",
            "10 * 2 = 20\n",
            "10 * 3 = 30\n",
            "10 * 4 = 40\n",
            "10 * 5 = 50\n",
            "10 * 6 = 60\n",
            "10 * 7 = 70\n",
            "10 * 8 = 80\n",
            "10 * 9 = 90\n",
            "10 * 10 = 100\n",
            "10 * 11 = 110\n",
            "10 * 12 = 120\n",
            "10 * 13 = 130\n",
            "10 * 14 = 140\n",
            "10 * 15 = 150\n"
          ]
        }
      ]
    },
    {
      "cell_type": "code",
      "source": [
        "#random\n",
        "\n",
        "import random\n",
        "print(random.randrange(1,100))"
      ],
      "metadata": {
        "colab": {
          "base_uri": "https://localhost:8080/"
        },
        "id": "yE8n38Ac9lBf",
        "outputId": "5d712f46-0d80-4361-ddda-fe6d1ce2011a"
      },
      "execution_count": 27,
      "outputs": [
        {
          "output_type": "stream",
          "name": "stdout",
          "text": [
            "8\n"
          ]
        }
      ]
    },
    {
      "cell_type": "code",
      "source": [
        "a-z@#!$%0-9"
      ],
      "metadata": {
        "id": "JrrWKny2-Hqq"
      },
      "execution_count": null,
      "outputs": []
    },
    {
      "cell_type": "code",
      "source": [
        "#python casting - int,str,float\n",
        "\n",
        "x = int(2.8)\n",
        "y = int(\"3\")\n",
        "z = float(10)\n",
        "\n",
        "print(x)\n",
        "print(y)\n",
        "print(z)"
      ],
      "metadata": {
        "colab": {
          "base_uri": "https://localhost:8080/"
        },
        "id": "UGBNQbEb-YGL",
        "outputId": "632be0aa-3004-4dcb-a6c6-3e65d1db7784"
      },
      "execution_count": 31,
      "outputs": [
        {
          "output_type": "stream",
          "name": "stdout",
          "text": [
            "2\n",
            "3\n",
            "10.0\n"
          ]
        }
      ]
    },
    {
      "cell_type": "code",
      "source": [
        "#Membership operator\n",
        "\n",
        "txt = \"I love srilanka\"\n",
        "print(\"USA\" in txt)"
      ],
      "metadata": {
        "colab": {
          "base_uri": "https://localhost:8080/"
        },
        "id": "ogFLkj72-4mM",
        "outputId": "6fb1f9b0-13c2-47d6-8a69-8077af0bf14e"
      },
      "execution_count": 33,
      "outputs": [
        {
          "output_type": "stream",
          "name": "stdout",
          "text": [
            "False\n"
          ]
        }
      ]
    },
    {
      "cell_type": "code",
      "source": [
        "txt = \"I love srilanka\"\n",
        "if \"US\" in txt:\n",
        "  print(\"Yes, it's present\")\n",
        "else:\n",
        "  print(\"Not present\")"
      ],
      "metadata": {
        "colab": {
          "base_uri": "https://localhost:8080/"
        },
        "id": "Lw6d-Ro1_W4H",
        "outputId": "19910597-7d97-48ae-995c-1c5636b439a4"
      },
      "execution_count": 36,
      "outputs": [
        {
          "output_type": "stream",
          "name": "stdout",
          "text": [
            "Not present\n"
          ]
        }
      ]
    },
    {
      "cell_type": "code",
      "source": [
        "txt = \"I love srilanka\"\n",
        "print(\"china\" not in txt)"
      ],
      "metadata": {
        "colab": {
          "base_uri": "https://localhost:8080/"
        },
        "id": "InHS-zyU_24W",
        "outputId": "5eb2f0bf-d964-47e3-9d3a-88fd96f4dd0f"
      },
      "execution_count": 37,
      "outputs": [
        {
          "output_type": "stream",
          "name": "stdout",
          "text": [
            "True\n"
          ]
        }
      ]
    },
    {
      "cell_type": "code",
      "source": [
        "b = \"Hello, srilanka!\"\n",
        "\n",
        "print(b[2:6])\n",
        "print(b[3:])\n",
        "print(b[:10])\n",
        "print(b[-5:-2]) #negative indexing\n",
        "print(b[::])\n",
        "print(b.strip()) #removes whitespace at the beg and the end"
      ],
      "metadata": {
        "colab": {
          "base_uri": "https://localhost:8080/"
        },
        "id": "0FvdJAjfAG2g",
        "outputId": "7c17cc8d-ccf4-48f1-93e6-d1f733d760b5"
      },
      "execution_count": 44,
      "outputs": [
        {
          "output_type": "stream",
          "name": "stdout",
          "text": [
            "llo,\n",
            "lo, srilanka!\n",
            "Hello, sri\n",
            "ank\n",
            "Hello, srilanka!\n",
            "Hello, srilanka!\n"
          ]
        }
      ]
    },
    {
      "cell_type": "code",
      "source": [
        "b = \"Hello, srilanka!\"\n",
        "\n",
        "print(b.strip())\n",
        "print(b.replace(\"H\",\"J\"))\n",
        "print(len(b))\n",
        "print(b.split(\"l\"))"
      ],
      "metadata": {
        "colab": {
          "base_uri": "https://localhost:8080/"
        },
        "id": "GHvhCA-HBWwV",
        "outputId": "695811a8-dfba-44bf-e650-4c9ae0efbfcd"
      },
      "execution_count": 48,
      "outputs": [
        {
          "output_type": "stream",
          "name": "stdout",
          "text": [
            "Hello, srilanka!\n",
            "Jello, srilanka!\n",
            "16\n",
            "['He', '', 'o, sri', 'anka!']\n"
          ]
        }
      ]
    },
    {
      "cell_type": "code",
      "source": [
        "#escape characters\n",
        "txt = \"I love \\\"srilanka\\\" India and china\"\n",
        "print(txt)\n"
      ],
      "metadata": {
        "colab": {
          "base_uri": "https://localhost:8080/"
        },
        "id": "AZ_EUUp5B7AX",
        "outputId": "17663209-8743-4a84-9384-4ae5c5800b04"
      },
      "execution_count": 50,
      "outputs": [
        {
          "output_type": "stream",
          "name": "stdout",
          "text": [
            "I love \"srilanka\" India and china\n"
          ]
        }
      ]
    },
    {
      "cell_type": "code",
      "source": [
        "txt = \"I love \\'srilanka\\' India and china\"\n",
        "print(txt)"
      ],
      "metadata": {
        "colab": {
          "base_uri": "https://localhost:8080/"
        },
        "id": "FW_YaD8CCTFr",
        "outputId": "753c5fac-23fc-4c82-d06a-3e6d2aca773c"
      },
      "execution_count": 51,
      "outputs": [
        {
          "output_type": "stream",
          "name": "stdout",
          "text": [
            "I love 'srilanka' India and china\n"
          ]
        }
      ]
    },
    {
      "cell_type": "code",
      "source": [
        "txt = \"I love \\'srilanka\\' \\nIndia and china\"\n",
        "print(txt)"
      ],
      "metadata": {
        "colab": {
          "base_uri": "https://localhost:8080/"
        },
        "id": "au6bCsR8CdLi",
        "outputId": "497dbbac-f23a-44a1-be76-2ec835fb39cb"
      },
      "execution_count": 52,
      "outputs": [
        {
          "output_type": "stream",
          "name": "stdout",
          "text": [
            "I love 'srilanka' \n",
            "India and china\n"
          ]
        }
      ]
    },
    {
      "cell_type": "code",
      "source": [
        "List -\n",
        "mutable, ordered,[]\n",
        "append\n",
        "pop\n",
        "reverse\n",
        "sort\n",
        "slicing for accesing list"
      ],
      "metadata": {
        "id": "o_HLQVLOClaS"
      },
      "execution_count": null,
      "outputs": []
    },
    {
      "cell_type": "code",
      "source": [
        "list = [100, 3, 5, 8, 7]\n",
        "list.sort() #ascending\n",
        "print(list)\n",
        "\n",
        "list.reverse()\n",
        "print(list)"
      ],
      "metadata": {
        "colab": {
          "base_uri": "https://localhost:8080/"
        },
        "id": "-Dh0OLTIC5dt",
        "outputId": "0a289312-1c83-4a85-ef0a-2f64a1c47bef"
      },
      "execution_count": 54,
      "outputs": [
        {
          "output_type": "stream",
          "name": "stdout",
          "text": [
            "[3, 5, 7, 8, 100]\n",
            "[100, 8, 7, 5, 3]\n"
          ]
        }
      ]
    },
    {
      "cell_type": "code",
      "source": [
        "Tuples - immutable , nested, cannot modify, once created remains static().\n",
        "concatenation - #used for data integrity and security"
      ],
      "metadata": {
        "id": "mPEg5_1ADrRy"
      },
      "execution_count": null,
      "outputs": []
    },
    {
      "cell_type": "code",
      "source": [
        "nested_tuple = ((1,2),(3,4))\n",
        "print(nested_tuple)"
      ],
      "metadata": {
        "colab": {
          "base_uri": "https://localhost:8080/"
        },
        "id": "HhQnVi8yEHUb",
        "outputId": "c7fa6031-b034-4e4a-c5f0-6d852f265ab8"
      },
      "execution_count": 55,
      "outputs": [
        {
          "output_type": "stream",
          "name": "stdout",
          "text": [
            "((1, 2), (3, 4))\n"
          ]
        }
      ]
    },
    {
      "cell_type": "code",
      "source": [
        "tuple1 = (1,2,3)\n",
        "\n",
        "result = tuple1 * 3\n",
        "print(result)"
      ],
      "metadata": {
        "colab": {
          "base_uri": "https://localhost:8080/"
        },
        "id": "GjolnKdAEVDQ",
        "outputId": "68d9b66b-da6f-4798-a62e-0b048fe079af"
      },
      "execution_count": 57,
      "outputs": [
        {
          "output_type": "stream",
          "name": "stdout",
          "text": [
            "(1, 2, 3, 1, 2, 3, 1, 2, 3)\n"
          ]
        }
      ]
    },
    {
      "cell_type": "code",
      "source": [
        "#Set - Unordered collection of unique sumbols\n",
        "# No duplicates, mutable also\n",
        "#add.\n",
        "#pop\n",
        "#insert\n",
        "#len\n",
        "\n",
        "set1 = {1,2,3}\n",
        "set2 = {3,4,5}\n",
        "union_set = set1 | set2\n",
        "intersection_set = set1 & set2\n",
        "difference_set = set2 - set1\n",
        "\n",
        "\n",
        "print(union_set)\n",
        "print(intersection_set)\n",
        "print(difference_set)"
      ],
      "metadata": {
        "colab": {
          "base_uri": "https://localhost:8080/"
        },
        "id": "ox7PTj3PEpLu",
        "outputId": "40daca8c-cd3f-4f71-d295-91613ab9feb9"
      },
      "execution_count": 64,
      "outputs": [
        {
          "output_type": "stream",
          "name": "stdout",
          "text": [
            "{1, 2, 3, 4, 5}\n",
            "{3}\n",
            "{4, 5}\n"
          ]
        }
      ]
    },
    {
      "cell_type": "code",
      "source": [
        "list = [1,2,3,2,4,4,5]\n",
        "result = set(list)\n",
        "print(result)"
      ],
      "metadata": {
        "colab": {
          "base_uri": "https://localhost:8080/"
        },
        "id": "QmqQ9wozF6hT",
        "outputId": "a9cc4d20-5163-494c-f7c1-df5329592e46"
      },
      "execution_count": 65,
      "outputs": [
        {
          "output_type": "stream",
          "name": "stdout",
          "text": [
            "{1, 2, 3, 4, 5}\n"
          ]
        }
      ]
    },
    {
      "cell_type": "code",
      "source": [
        "#Dictonary: unoredered, collection of key value pairs , no duplicates"
      ],
      "metadata": {
        "id": "ppR2oRV3GMsX"
      },
      "execution_count": null,
      "outputs": []
    },
    {
      "cell_type": "code",
      "source": [
        "dict = {\"name\": \"joy\", \"age\": 30, \"city\":\"srilanka\"}\n",
        "\n",
        "dict.update({\"mark\": 100})\n",
        "print(dict)\n",
        "\n",
        "name1 = dict[\"age\"]\n",
        "print(name1)"
      ],
      "metadata": {
        "colab": {
          "base_uri": "https://localhost:8080/"
        },
        "id": "0dSxGnx4Gamp",
        "outputId": "e0188870-b0fc-4ce9-de4d-342bb9bf9ab8"
      },
      "execution_count": 69,
      "outputs": [
        {
          "output_type": "stream",
          "name": "stdout",
          "text": [
            "{'name': 'joy', 'age': 30, 'city': 'srilanka', 'mark': 100}\n",
            "30\n"
          ]
        }
      ]
    },
    {
      "cell_type": "markdown",
      "source": [
        "list - []\n",
        "set - {}\n",
        "dict = {}\n",
        "tuple - ()"
      ],
      "metadata": {
        "id": "tPpoicNVGmHe"
      }
    },
    {
      "cell_type": "code",
      "source": [
        "# loops\n",
        "# for\n",
        "# if else\n",
        "# while"
      ],
      "metadata": {
        "id": "ZjjjTKVuHvvw"
      },
      "execution_count": null,
      "outputs": []
    },
    {
      "cell_type": "code",
      "source": [
        "#Break statement\n",
        "car = [\"bmw\",\"audi\",\"polo\"]\n",
        "for i in car:\n",
        "  print(i)\n",
        "  if i == \"audi\":\n",
        "    break"
      ],
      "metadata": {
        "colab": {
          "base_uri": "https://localhost:8080/"
        },
        "id": "6YxA_yDbH3JL",
        "outputId": "3d84f5be-1071-4fc5-f939-60470c98d62d"
      },
      "execution_count": 71,
      "outputs": [
        {
          "output_type": "stream",
          "name": "stdout",
          "text": [
            "bmw\n",
            "audi\n"
          ]
        }
      ]
    },
    {
      "cell_type": "code",
      "source": [
        "#continue\n",
        "car = [\"bmw\",\"audi\",\"polo\"]\n",
        "for i in car:\n",
        "  if i == \"audi\":\n",
        "    continue\n",
        "  print(i)"
      ],
      "metadata": {
        "colab": {
          "base_uri": "https://localhost:8080/"
        },
        "id": "oDm4amhjIXzX",
        "outputId": "9c85e216-3d80-441f-9b55-5b8da452cc54"
      },
      "execution_count": 73,
      "outputs": [
        {
          "output_type": "stream",
          "name": "stdout",
          "text": [
            "bmw\n",
            "polo\n"
          ]
        }
      ]
    },
    {
      "cell_type": "code",
      "source": [
        "Functions - collection of statements, def\n",
        " 1. With No arguments and No return"
      ],
      "metadata": {
        "id": "flAUq_XQIyri"
      },
      "execution_count": null,
      "outputs": []
    },
    {
      "cell_type": "code",
      "source": [
        "#1. With No arguments and No return\n",
        "\n",
        "def add():\n",
        "  a = 10\n",
        "  b = 20\n",
        "  sum = a+b\n",
        "  print(\"calling the function:\",sum)\n",
        "add()"
      ],
      "metadata": {
        "colab": {
          "base_uri": "https://localhost:8080/"
        },
        "id": "-swXRV3ZJMpt",
        "outputId": "ed9eac04-c8f1-48f1-f6b0-57961e349511"
      },
      "execution_count": 74,
      "outputs": [
        {
          "output_type": "stream",
          "name": "stdout",
          "text": [
            "calling the function: 30\n"
          ]
        }
      ]
    },
    {
      "cell_type": "code",
      "source": [
        "#2. No argument and with return\n",
        "def Multiplication():\n",
        "  a = 10\n",
        "  b = 20\n",
        "  Multi = a * b\n",
        "  return Multi\n",
        "print(\"calling the function:\",Multiplication())"
      ],
      "metadata": {
        "colab": {
          "base_uri": "https://localhost:8080/"
        },
        "id": "fl3exwRWJkMF",
        "outputId": "25cbc57a-1797-4e5a-de05-51caea98a859"
      },
      "execution_count": 76,
      "outputs": [
        {
          "output_type": "stream",
          "name": "stdout",
          "text": [
            "calling the function: 200\n"
          ]
        }
      ]
    },
    {
      "cell_type": "code",
      "source": [
        "#3. With Argument and No return\n",
        "def Multiplication(a,b):\n",
        "\n",
        "  Multi = a * b\n",
        "  print(\"calling the function:\",Multi)\n",
        "\n",
        "Multiplication(10,20)"
      ],
      "metadata": {
        "colab": {
          "base_uri": "https://localhost:8080/"
        },
        "id": "CGU0Am1xKOUZ",
        "outputId": "dd4ed900-4e6d-4f30-f4bb-8d05058593f2"
      },
      "execution_count": 79,
      "outputs": [
        {
          "output_type": "stream",
          "name": "stdout",
          "text": [
            "calling the function: 200\n"
          ]
        }
      ]
    },
    {
      "cell_type": "code",
      "source": [
        "#4. With Argument and with return\n",
        "\n",
        "def add(a,b):\n",
        "\n",
        "  sum = a+b\n",
        "  return sum\n",
        "print(\"calling the function:\",sum)\n",
        "add(100,200)"
      ],
      "metadata": {
        "colab": {
          "base_uri": "https://localhost:8080/"
        },
        "id": "TQLZLOTmK0TC",
        "outputId": "f49cb237-b555-42ba-9b46-994ceae4e8ef"
      },
      "execution_count": 82,
      "outputs": [
        {
          "output_type": "stream",
          "name": "stdout",
          "text": [
            "calling the function: <built-in function sum>\n"
          ]
        },
        {
          "output_type": "execute_result",
          "data": {
            "text/plain": [
              "300"
            ]
          },
          "metadata": {},
          "execution_count": 82
        }
      ]
    },
    {
      "cell_type": "code",
      "source": [
        "list = ['a', 'b', 'c', 'd'] #pass statement\n",
        "for i in list:\n",
        "  if (i =='a'):\n",
        "    pass\n",
        "  else:\n",
        "    print(i)"
      ],
      "metadata": {
        "colab": {
          "base_uri": "https://localhost:8080/"
        },
        "id": "h1heZMCXPlKe",
        "outputId": "87312494-7669-4027-d9b5-dcf95c79dd9b"
      },
      "execution_count": 83,
      "outputs": [
        {
          "output_type": "stream",
          "name": "stdout",
          "text": [
            "b\n",
            "c\n",
            "d\n"
          ]
        }
      ]
    }
  ]
}