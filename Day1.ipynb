{
  "nbformat": 4,
  "nbformat_minor": 0,
  "metadata": {
    "colab": {
      "provenance": [],
      "authorship_tag": "ABX9TyN/qeRRDhMnf9F4xc0D9Q/s",
      "include_colab_link": true
    },
    "kernelspec": {
      "name": "python3",
      "display_name": "Python 3"
    },
    "language_info": {
      "name": "python"
    }
  },
  "cells": [
    {
      "cell_type": "markdown",
      "metadata": {
        "id": "view-in-github",
        "colab_type": "text"
      },
      "source": [
        "<a href=\"https://colab.research.google.com/github/Aswinramesh04/Python-Course/blob/main/Day1.ipynb\" target=\"_parent\"><img src=\"https://colab.research.google.com/assets/colab-badge.svg\" alt=\"Open In Colab\"/></a>"
      ]
    },
    {
      "cell_type": "markdown",
      "source": [
        "DAY - 1 (Intro.)"
      ],
      "metadata": {
        "id": "-mQ2LHgRmYIG"
      }
    },
    {
      "cell_type": "code",
      "execution_count": 1,
      "metadata": {
        "colab": {
          "base_uri": "https://localhost:8080/"
        },
        "id": "mP-8nYYelB4a",
        "outputId": "326a8445-afb5-4894-d3ec-4b0fd1cd3beb"
      },
      "outputs": [
        {
          "output_type": "stream",
          "name": "stdout",
          "text": [
            "hello\n"
          ]
        }
      ],
      "source": [
        "print(\"hello\")"
      ]
    },
    {
      "cell_type": "code",
      "source": [
        "if 10>2:\n",
        "  print(\"Yes it's correct\")"
      ],
      "metadata": {
        "colab": {
          "base_uri": "https://localhost:8080/"
        },
        "id": "ZnkQTj8Umbaz",
        "outputId": "056997be-fc1c-4019-b426-beb376754ebb"
      },
      "execution_count": 4,
      "outputs": [
        {
          "output_type": "stream",
          "name": "stdout",
          "text": [
            "Yes it's correct\n"
          ]
        }
      ]
    },
    {
      "cell_type": "code",
      "source": [
        "a = 8.4\n",
        "b = \"hello\"\n",
        "\n",
        "#hello\n",
        "\n",
        "print(a)"
      ],
      "metadata": {
        "colab": {
          "base_uri": "https://localhost:8080/"
        },
        "id": "6URSWrFqmx-1",
        "outputId": "734638f3-5336-491e-f6ca-1050947c0f9d"
      },
      "execution_count": 8,
      "outputs": [
        {
          "output_type": "stream",
          "name": "stdout",
          "text": [
            "8.4\n"
          ]
        }
      ]
    },
    {
      "cell_type": "code",
      "source": [
        "a, b, c = \"hello\", \"Hi\", 8.9\n",
        "print(c)"
      ],
      "metadata": {
        "colab": {
          "base_uri": "https://localhost:8080/"
        },
        "id": "4gLZOoh2nhvF",
        "outputId": "e9fa59a7-3d4f-4a19-9a9c-3abbacf35fc8"
      },
      "execution_count": 12,
      "outputs": [
        {
          "output_type": "stream",
          "name": "stdout",
          "text": [
            "8.9\n"
          ]
        }
      ]
    },
    {
      "cell_type": "code",
      "source": [
        "x = \"Srilanka\"\n",
        "y = \"India\"\n",
        "\n",
        "z = x +\" \"+ y\n",
        "print(z)"
      ],
      "metadata": {
        "colab": {
          "base_uri": "https://localhost:8080/"
        },
        "id": "pIKIzzt7oK_P",
        "outputId": "6d04e19e-c9f7-4361-b721-0a4087b068d4"
      },
      "execution_count": 86,
      "outputs": [
        {
          "output_type": "stream",
          "name": "stdout",
          "text": [
            "Srilanka India\n"
          ]
        }
      ]
    },
    {
      "cell_type": "code",
      "source": [
        "x = \"Srilanka\"\n",
        "\n",
        "def func():\n",
        "  x = \"India\"\n",
        "  print(\"I love\" + x)\n",
        "\n",
        "func()\n",
        "\n",
        "print(\"I love\" + x)"
      ],
      "metadata": {
        "colab": {
          "base_uri": "https://localhost:8080/"
        },
        "id": "yD2joCblomf3",
        "outputId": "5f18e61d-6f87-4c73-e708-764fb6047aba"
      },
      "execution_count": 18,
      "outputs": [
        {
          "output_type": "stream",
          "name": "stdout",
          "text": [
            "I loveIndia\n",
            "I loveSrilanka\n"
          ]
        }
      ]
    },
    {
      "cell_type": "code",
      "source": [
        "x = \"hi\"\n",
        "def func():\n",
        "  global x\n",
        "  x = \"hello\"\n",
        "\n",
        "func()\n",
        "print(\"I love\" + x)\n"
      ],
      "metadata": {
        "colab": {
          "base_uri": "https://localhost:8080/"
        },
        "id": "5qpqXiomplXE",
        "outputId": "66d5e869-b68f-46ab-95f8-1d52cb5c659f"
      },
      "execution_count": 23,
      "outputs": [
        {
          "output_type": "stream",
          "name": "stdout",
          "text": [
            "I lovehello\n"
          ]
        }
      ]
    },
    {
      "cell_type": "markdown",
      "source": [
        "str\n",
        "int\n",
        "float\n",
        "list\n",
        "tuples"
      ],
      "metadata": {
        "id": "jdxHB1CnqxeN"
      }
    },
    {
      "cell_type": "code",
      "source": [
        "a = [\"hi\", \"hello\", \"welcome\"]\n",
        "\n",
        "print(type(a))"
      ],
      "metadata": {
        "colab": {
          "base_uri": "https://localhost:8080/"
        },
        "id": "lLXMh_1lqcyv",
        "outputId": "6f0608c1-ceb1-4506-e1e7-c93d2fe899f0"
      },
      "execution_count": 26,
      "outputs": [
        {
          "output_type": "stream",
          "name": "stdout",
          "text": [
            "<class 'list'>\n"
          ]
        }
      ]
    },
    {
      "cell_type": "code",
      "source": [
        "a = (\"hi\", \"hello\", \"welcome\")\n",
        "\n",
        "print(type(a))"
      ],
      "metadata": {
        "colab": {
          "base_uri": "https://localhost:8080/"
        },
        "id": "mwFMSagUrAAq",
        "outputId": "d396bf76-20d3-42ed-cb2f-470410686550"
      },
      "execution_count": 27,
      "outputs": [
        {
          "output_type": "stream",
          "name": "stdout",
          "text": [
            "<class 'tuple'>\n"
          ]
        }
      ]
    },
    {
      "cell_type": "code",
      "source": [
        "a = {\"hi\", \"hello\", \"welcome\"}\n",
        "\n",
        "print(type(a))"
      ],
      "metadata": {
        "colab": {
          "base_uri": "https://localhost:8080/"
        },
        "id": "0ggGzdPSpH6t",
        "outputId": "2db22ef2-75ed-470d-8b6d-912805e7becb"
      },
      "execution_count": 29,
      "outputs": [
        {
          "output_type": "stream",
          "name": "stdout",
          "text": [
            "<class 'set'>\n"
          ]
        }
      ]
    },
    {
      "cell_type": "code",
      "source": [
        "Python Numbers - int, float, complex"
      ],
      "metadata": {
        "id": "iRPR0JoYrkfo"
      },
      "execution_count": null,
      "outputs": []
    },
    {
      "cell_type": "code",
      "source": [
        "x = 10\n",
        "y = 2.6\n",
        "z = 6+6j\n",
        "\n",
        "a = float(x)\n",
        "\n",
        "b = int(y)\n",
        "\n",
        "c = complex(x)\n",
        "\n",
        "print(a)\n",
        "print(b)\n",
        "print(c)"
      ],
      "metadata": {
        "colab": {
          "base_uri": "https://localhost:8080/"
        },
        "id": "ed6q7dqFrvGc",
        "outputId": "1ecc9374-f98c-4b3a-8825-4e0fb06a70d8"
      },
      "execution_count": 33,
      "outputs": [
        {
          "output_type": "stream",
          "name": "stdout",
          "text": [
            "10.0\n",
            "2\n",
            "(10+0j)\n"
          ]
        }
      ]
    },
    {
      "cell_type": "code",
      "source": [
        "Strings\n"
      ],
      "metadata": {
        "id": "an7AsTEJspaI"
      },
      "execution_count": null,
      "outputs": []
    },
    {
      "cell_type": "code",
      "source": [
        "a = \"\"\"hahshsh\n",
        "shshjsh\n",
        "shshsh\"\"\"\n",
        "print(a)"
      ],
      "metadata": {
        "colab": {
          "base_uri": "https://localhost:8080/"
        },
        "id": "R3ZeoxxAst7R",
        "outputId": "7c98b7f2-d3e8-4567-ebe6-8a8951d4405d"
      },
      "execution_count": 34,
      "outputs": [
        {
          "output_type": "stream",
          "name": "stdout",
          "text": [
            "hahshsh\n",
            "shshjsh\n",
            "shshsh\n"
          ]
        }
      ]
    },
    {
      "cell_type": "code",
      "source": [
        "a = \"hello\"\n",
        "print(a[0])"
      ],
      "metadata": {
        "colab": {
          "base_uri": "https://localhost:8080/"
        },
        "id": "GnpOshMXtBX4",
        "outputId": "a600ffb9-d0b5-4dd7-d843-18cc81af53a3"
      },
      "execution_count": 36,
      "outputs": [
        {
          "output_type": "stream",
          "name": "stdout",
          "text": [
            "h\n"
          ]
        }
      ]
    },
    {
      "cell_type": "code",
      "source": [
        "b = \"Welcome world\"\n",
        "print(b[-3])\n",
        "\n",
        "print(len(b))\n",
        "\n",
        "print(b.strip())\n",
        "\n",
        "print(b.lower())\n",
        "print(b.upper())\n",
        "\n",
        "print(b.replace(\"W\", \"o\"))"
      ],
      "metadata": {
        "colab": {
          "base_uri": "https://localhost:8080/"
        },
        "id": "RrsWEzR9tZ77",
        "outputId": "5a2c0451-acd2-41ae-fde4-2ff439872425"
      },
      "execution_count": 47,
      "outputs": [
        {
          "output_type": "stream",
          "name": "stdout",
          "text": [
            "r\n",
            "13\n",
            "Welcome world\n",
            "welcome world\n",
            "WELCOME WORLD\n",
            "oelcome world\n"
          ]
        }
      ]
    },
    {
      "cell_type": "code",
      "source": [
        "#Concatenation\n",
        "\n",
        "a = \"hi\"\n",
        "b = \"welcome\"\n",
        "c = a + \" \"+ b\n",
        "print(c)"
      ],
      "metadata": {
        "colab": {
          "base_uri": "https://localhost:8080/"
        },
        "id": "R4uHTv24ubOj",
        "outputId": "51999f0b-f352-45f2-c578-a82b362e227b"
      },
      "execution_count": 49,
      "outputs": [
        {
          "output_type": "stream",
          "name": "stdout",
          "text": [
            "hi welcome\n"
          ]
        }
      ]
    },
    {
      "cell_type": "code",
      "source": [
        "print(100<10)"
      ],
      "metadata": {
        "colab": {
          "base_uri": "https://localhost:8080/"
        },
        "id": "XnMQU0iAv0tI",
        "outputId": "94622e9a-ff74-4fbf-d9b0-13f9f700aff3"
      },
      "execution_count": 51,
      "outputs": [
        {
          "output_type": "stream",
          "name": "stdout",
          "text": [
            "False\n"
          ]
        }
      ]
    },
    {
      "cell_type": "code",
      "source": [
        "a = 100\n",
        "b = 200\n",
        "\n",
        "if b>a:\n",
        "  print(\"Yes correct\")\n",
        "else:\n",
        "  print(\"Wrong\")\n",
        "\n",
        "print(bool(\"Hi\"))"
      ],
      "metadata": {
        "colab": {
          "base_uri": "https://localhost:8080/"
        },
        "id": "GzbMuVaSwDFP",
        "outputId": "2cb3b223-449a-4f62-a28e-4d437d209773"
      },
      "execution_count": 53,
      "outputs": [
        {
          "output_type": "stream",
          "name": "stdout",
          "text": [
            "Yes correct\n",
            "True\n"
          ]
        }
      ]
    },
    {
      "cell_type": "code",
      "source": [
        "Operators:\n",
        "Arithmetic - =,-,/,*\n",
        "Comparison - <,>.==\n",
        "Loogical - and or not\n",
        "Bitwise - and &\n",
        "OR |\n",
        "XOR ^\n",
        "NOT -\n"
      ],
      "metadata": {
        "id": "5JxD065AwghO"
      },
      "execution_count": null,
      "outputs": []
    },
    {
      "cell_type": "code",
      "source": [
        "list = [\"india\", \"srilanka\", \"malaysia\"]\n",
        "\n",
        "for x in list:\n",
        "  print(x)\n",
        "\n",
        "\n",
        "  print(x)"
      ],
      "metadata": {
        "colab": {
          "base_uri": "https://localhost:8080/",
          "height": 255
        },
        "id": "PHibdS5yw9Br",
        "outputId": "9b6808e2-70c4-4221-be5f-1b8ef8fdb894"
      },
      "execution_count": 55,
      "outputs": [
        {
          "output_type": "stream",
          "name": "stdout",
          "text": [
            "india\n",
            "srilanka\n",
            "malaysia\n"
          ]
        },
        {
          "output_type": "error",
          "ename": "NameError",
          "evalue": "name 'thislist' is not defined",
          "traceback": [
            "\u001b[0;31m---------------------------------------------------------------------------\u001b[0m",
            "\u001b[0;31mNameError\u001b[0m                                 Traceback (most recent call last)",
            "\u001b[0;32m<ipython-input-55-baa312586c53>\u001b[0m in \u001b[0;36m<cell line: 6>\u001b[0;34m()\u001b[0m\n\u001b[1;32m      4\u001b[0m   \u001b[0mprint\u001b[0m\u001b[0;34m(\u001b[0m\u001b[0mx\u001b[0m\u001b[0;34m)\u001b[0m\u001b[0;34m\u001b[0m\u001b[0;34m\u001b[0m\u001b[0m\n\u001b[1;32m      5\u001b[0m \u001b[0;34m\u001b[0m\u001b[0m\n\u001b[0;32m----> 6\u001b[0;31m \u001b[0;32mif\u001b[0m \u001b[0;34m\"india\"\u001b[0m \u001b[0;32min\u001b[0m \u001b[0mthislist\u001b[0m\u001b[0;34m:\u001b[0m\u001b[0;34m\u001b[0m\u001b[0;34m\u001b[0m\u001b[0m\n\u001b[0m\u001b[1;32m      7\u001b[0m   \u001b[0mprint\u001b[0m\u001b[0;34m(\u001b[0m\u001b[0mx\u001b[0m\u001b[0;34m)\u001b[0m\u001b[0;34m\u001b[0m\u001b[0;34m\u001b[0m\u001b[0m\n",
            "\u001b[0;31mNameError\u001b[0m: name 'thislist' is not defined"
          ]
        }
      ]
    },
    {
      "cell_type": "code",
      "source": [
        "list = [\"india\", \"srilanka\", \"malaysia\"]\n",
        "\n",
        "if \"india\" in list:\n",
        "  print(\"Yes\")\n",
        "else:\n",
        "  print(\"No\")\n",
        "print(len(list))\n",
        "\n",
        "list.append(\"singapore\")\n",
        "print(list)\n",
        "\n",
        "list.insert(1, \"asia\")\n",
        "print(list)\n",
        "\n",
        "list.remove(\"malaysia\")\n",
        "print(list)\n",
        "\n",
        "list.pop()\n",
        "print(list)"
      ],
      "metadata": {
        "colab": {
          "base_uri": "https://localhost:8080/"
        },
        "id": "n7dNlDOJxqTp",
        "outputId": "e5f918ce-405d-47c8-824e-8a5c877e84c6"
      },
      "execution_count": 90,
      "outputs": [
        {
          "output_type": "stream",
          "name": "stdout",
          "text": [
            "Yes\n",
            "3\n",
            "['india', 'srilanka', 'malaysia', 'singapore']\n",
            "['india', 'asia', 'srilanka', 'malaysia', 'singapore']\n",
            "['india', 'asia', 'srilanka', 'singapore']\n",
            "['india', 'asia', 'srilanka']\n"
          ]
        }
      ]
    },
    {
      "cell_type": "code",
      "source": [
        "list = [\"india\", \"srilanka\", \"malaysia\"]\n",
        "\n",
        "list.pop()\n",
        "print(list)\n",
        "\n",
        "del list\n",
        "\n"
      ],
      "metadata": {
        "colab": {
          "base_uri": "https://localhost:8080/",
          "height": 219
        },
        "id": "Tsjvnq05yDgY",
        "outputId": "446c6cc6-2f59-47a3-a9b1-ef5fc62c78e6"
      },
      "execution_count": 66,
      "outputs": [
        {
          "output_type": "stream",
          "name": "stdout",
          "text": [
            "['india', 'srilanka']\n"
          ]
        },
        {
          "output_type": "error",
          "ename": "TypeError",
          "evalue": "unbound method list.clear() needs an argument",
          "traceback": [
            "\u001b[0;31m---------------------------------------------------------------------------\u001b[0m",
            "\u001b[0;31mTypeError\u001b[0m                                 Traceback (most recent call last)",
            "\u001b[0;32m<ipython-input-66-662b0e6f04ac>\u001b[0m in \u001b[0;36m<cell line: 8>\u001b[0;34m()\u001b[0m\n\u001b[1;32m      6\u001b[0m \u001b[0;32mdel\u001b[0m \u001b[0mlist\u001b[0m\u001b[0;34m\u001b[0m\u001b[0;34m\u001b[0m\u001b[0m\n\u001b[1;32m      7\u001b[0m \u001b[0;34m\u001b[0m\u001b[0m\n\u001b[0;32m----> 8\u001b[0;31m \u001b[0mlist\u001b[0m\u001b[0;34m.\u001b[0m\u001b[0mclear\u001b[0m\u001b[0;34m(\u001b[0m\u001b[0;34m)\u001b[0m\u001b[0;34m\u001b[0m\u001b[0;34m\u001b[0m\u001b[0m\n\u001b[0m\u001b[1;32m      9\u001b[0m \u001b[0mprint\u001b[0m\u001b[0;34m(\u001b[0m\u001b[0mlist\u001b[0m\u001b[0;34m)\u001b[0m\u001b[0;34m\u001b[0m\u001b[0;34m\u001b[0m\u001b[0m\n",
            "\u001b[0;31mTypeError\u001b[0m: unbound method list.clear() needs an argument"
          ]
        }
      ]
    },
    {
      "cell_type": "code",
      "source": [
        "list = [\"india\", \"srilanka\", \"malaysia\"]\n",
        "\n",
        "list.clear()\n",
        "print(list)"
      ],
      "metadata": {
        "colab": {
          "base_uri": "https://localhost:8080/"
        },
        "id": "D4Ahi0Rfz7Qd",
        "outputId": "ae3f5577-b862-4dd2-ab89-ac16a12fd6a3"
      },
      "execution_count": 67,
      "outputs": [
        {
          "output_type": "stream",
          "name": "stdout",
          "text": [
            "[]\n"
          ]
        }
      ]
    },
    {
      "cell_type": "code",
      "source": [
        "list1 = [\"india\", \"srilanka\", \"malaysia\"]\n",
        "list2 = [\"USA\"]\n",
        "\n",
        "list3 = list1 + list2\n",
        "print(list3)"
      ],
      "metadata": {
        "colab": {
          "base_uri": "https://localhost:8080/"
        },
        "id": "gO0_av_O0FHS",
        "outputId": "fea4944d-67ca-40b5-842a-848b0f9e57af"
      },
      "execution_count": 68,
      "outputs": [
        {
          "output_type": "stream",
          "name": "stdout",
          "text": [
            "['india', 'srilanka', 'malaysia', 'USA']\n"
          ]
        }
      ]
    },
    {
      "cell_type": "markdown",
      "source": [
        "append()\n",
        "clear()\n",
        "insert()\n",
        "pop()\n",
        "remove()\n"
      ],
      "metadata": {
        "id": "0aJxitma0XHV"
      }
    },
    {
      "cell_type": "code",
      "source": [
        "x = (\"india\", \"srilanka\", \"malaysia\")\n",
        "# y = list(x)\n",
        "\n",
        "# y[1] = \"USA\"\n",
        "\n",
        "# x = tuple(y)\n",
        "# print(x)\n",
        "\n",
        "print(len(x))\n"
      ],
      "metadata": {
        "colab": {
          "base_uri": "https://localhost:8080/"
        },
        "id": "V0chlf9P0k9i",
        "outputId": "bda1355c-d865-417b-dde2-7048181e562d"
      },
      "execution_count": 75,
      "outputs": [
        {
          "output_type": "stream",
          "name": "stdout",
          "text": [
            "3\n"
          ]
        }
      ]
    },
    {
      "cell_type": "code",
      "source": [],
      "metadata": {
        "colab": {
          "base_uri": "https://localhost:8080/",
          "height": 164
        },
        "id": "rtHrM4x82IwR",
        "outputId": "bd394880-96dd-4d27-f9f6-b00563bec69d"
      },
      "execution_count": 76,
      "outputs": [
        {
          "output_type": "error",
          "ename": "TypeError",
          "evalue": "'tuple' object is not callable",
          "traceback": [
            "\u001b[0;31m---------------------------------------------------------------------------\u001b[0m",
            "\u001b[0;31mTypeError\u001b[0m                                 Traceback (most recent call last)",
            "\u001b[0;32m<ipython-input-76-aca148e706ef>\u001b[0m in \u001b[0;36m<cell line: 1>\u001b[0;34m()\u001b[0m\n\u001b[0;32m----> 1\u001b[0;31m \u001b[0mtuple1\u001b[0m \u001b[0;34m=\u001b[0m \u001b[0mtuple\u001b[0m\u001b[0;34m(\u001b[0m\u001b[0;34m(\u001b[0m\u001b[0;34m\"india\"\u001b[0m\u001b[0;34m,\u001b[0m \u001b[0;34m\"srilanka\"\u001b[0m\u001b[0;34m,\u001b[0m \u001b[0;34m\"malaysia\"\u001b[0m\u001b[0;34m)\u001b[0m\u001b[0;34m)\u001b[0m\u001b[0;34m\u001b[0m\u001b[0;34m\u001b[0m\u001b[0m\n\u001b[0m\u001b[1;32m      2\u001b[0m \u001b[0mprint\u001b[0m\u001b[0;34m(\u001b[0m\u001b[0mtuple\u001b[0m\u001b[0;34m)\u001b[0m\u001b[0;34m\u001b[0m\u001b[0;34m\u001b[0m\u001b[0m\n",
            "\u001b[0;31mTypeError\u001b[0m: 'tuple' object is not callable"
          ]
        }
      ]
    },
    {
      "cell_type": "code",
      "source": [
        "set = {\"india\", \"srilanka\", \"malaysia\"}\n",
        "print(set)"
      ],
      "metadata": {
        "colab": {
          "base_uri": "https://localhost:8080/"
        },
        "id": "VCOXfwgM2dL6",
        "outputId": "bbf7fbfa-7d83-4801-93cf-6359cd5afe49"
      },
      "execution_count": 77,
      "outputs": [
        {
          "output_type": "stream",
          "name": "stdout",
          "text": [
            "{'india', 'malaysia', 'srilanka'}\n"
          ]
        }
      ]
    },
    {
      "cell_type": "code",
      "source": [
        "set = {\"india\", \"srilanka\", \"malaysia\"}\n",
        "set.add(\"USA\")\n",
        "\n",
        "print(set)\n",
        "\n",
        "set.remove(\"india\")\n",
        "print(set)\n",
        "\n",
        "set.clear()\n",
        "print(set)\n",
        "\n",
        "del set\n",
        "print(set)"
      ],
      "metadata": {
        "colab": {
          "base_uri": "https://localhost:8080/"
        },
        "id": "B9ssJSxD2qUD",
        "outputId": "e5cb78ae-e5e6-4497-dfe3-ecf0b3cd4a7d"
      },
      "execution_count": 81,
      "outputs": [
        {
          "output_type": "stream",
          "name": "stdout",
          "text": [
            "{'USA', 'india', 'malaysia', 'srilanka'}\n",
            "{'USA', 'malaysia', 'srilanka'}\n",
            "set()\n",
            "<class 'set'>\n"
          ]
        }
      ]
    },
    {
      "cell_type": "code",
      "source": [
        "set1 = {\"india\", \"srilanka\", \"malaysia\"}\n",
        "set2 = {\"india\", \"srilanka\", \"malaysia\", \"USA\"}\n",
        "\n",
        "set3 = set1.union(set2)\n",
        "\n",
        "print(set3)"
      ],
      "metadata": {
        "colab": {
          "base_uri": "https://localhost:8080/"
        },
        "id": "x0Z-FJiW4dPR",
        "outputId": "d3c3cf41-a8d3-4373-aeb2-546bf614816c"
      },
      "execution_count": 85,
      "outputs": [
        {
          "output_type": "stream",
          "name": "stdout",
          "text": [
            "{'USA', 'malaysia', 'india', 'srilanka'}\n"
          ]
        }
      ]
    },
    {
      "cell_type": "code",
      "source": [
        "set1 = {\"india\", \"srilanka\", \"malaysia\"}\n",
        "set2 = {\"india\", \"srilanka\", \"malaysia\", \"USA\"}\n",
        "\n",
        "set3 = set1.intersection(set2)\n",
        "\n",
        "print(set3)"
      ],
      "metadata": {
        "colab": {
          "base_uri": "https://localhost:8080/"
        },
        "id": "kyH09_t93jO1",
        "outputId": "19c53094-6cf2-452c-e6f5-3f440bbc78c2"
      },
      "execution_count": 83,
      "outputs": [
        {
          "output_type": "stream",
          "name": "stdout",
          "text": [
            "{'india', 'malaysia', 'srilanka'}\n"
          ]
        }
      ]
    },
    {
      "cell_type": "code",
      "source": [
        "set1 = {\"india\", \"srilanka\", \"malaysia\"}\n",
        "set2 = {\"india\", \"srilanka\", \"malaysia\", \"USA\"}\n",
        "\n",
        "set1.update(set2)\n",
        "print(set1)"
      ],
      "metadata": {
        "colab": {
          "base_uri": "https://localhost:8080/"
        },
        "id": "PG185YPd4NmK",
        "outputId": "a121fbdf-da03-4184-98b7-1444fc6b0a67"
      },
      "execution_count": 84,
      "outputs": [
        {
          "output_type": "stream",
          "name": "stdout",
          "text": [
            "{'USA', 'malaysia', 'india', 'srilanka'}\n"
          ]
        }
      ]
    },
    {
      "cell_type": "markdown",
      "source": [
        "update()\n",
        "intersection()\n",
        "union()\n",
        "add()\n",
        "clear()"
      ],
      "metadata": {
        "id": "U1V9m6oE5Ed-"
      }
    },
    {
      "cell_type": "code",
      "source": [
        "dict = {\n",
        "    \"india\": \"chennai\",\n",
        "    \"mumbai\": \"usa\",\n",
        "    \"kerala\": \"kolkata\"\n",
        "    }\n",
        "\n",
        "print(type(dict))"
      ],
      "metadata": {
        "colab": {
          "base_uri": "https://localhost:8080/"
        },
        "id": "dkXK8Dk75WBU",
        "outputId": "7904c33c-064b-421c-bd40-96a5d51fe309"
      },
      "execution_count": 87,
      "outputs": [
        {
          "output_type": "stream",
          "name": "stdout",
          "text": [
            "<class 'dict'>\n"
          ]
        }
      ]
    }
  ]
}